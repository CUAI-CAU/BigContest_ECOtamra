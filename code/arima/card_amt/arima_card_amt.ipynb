{
 "cells": [
  {
   "cell_type": "code",
   "execution_count": 1,
   "metadata": {},
   "outputs": [],
   "source": [
    "%matplotlib inline\n",
    "import matplotlib.pyplot as plt\n",
    "import pandas as pd\n",
    "import numpy as np\n",
    "import seaborn as sns\n",
    "#from plotly.offline import init_notebook_mode, iplot\n",
    "#import plotly.graph_objs as go\n",
    "import os\n",
    "import warnings"
   ]
  },
  {
   "cell_type": "markdown",
   "metadata": {},
   "source": [
    "# 파일 불러와서 열이름 바꾸기\n",
    "korean, long_term_frgn, short_term_frgn, resident, card_cnt, card_amt, waste_cnt\n",
    "(이거 예시는 card_amt임)"
   ]
  },
  {
   "cell_type": "code",
   "execution_count": 2,
   "metadata": {},
   "outputs": [
    {
     "data": {
      "text/html": [
       "<div>\n",
       "<style scoped>\n",
       "    .dataframe tbody tr th:only-of-type {\n",
       "        vertical-align: middle;\n",
       "    }\n",
       "\n",
       "    .dataframe tbody tr th {\n",
       "        vertical-align: top;\n",
       "    }\n",
       "\n",
       "    .dataframe thead th {\n",
       "        text-align: right;\n",
       "    }\n",
       "</style>\n",
       "<table border=\"1\" class=\"dataframe\">\n",
       "  <thead>\n",
       "    <tr style=\"text-align: right;\">\n",
       "      <th></th>\n",
       "      <th>base_date</th>\n",
       "      <th>emd_cd</th>\n",
       "      <th>card_cnt</th>\n",
       "      <th>card_amt</th>\n",
       "    </tr>\n",
       "    <tr>\n",
       "      <th>base_date</th>\n",
       "      <th></th>\n",
       "      <th></th>\n",
       "      <th></th>\n",
       "      <th></th>\n",
       "    </tr>\n",
       "  </thead>\n",
       "  <tbody>\n",
       "    <tr>\n",
       "      <th>2018-01-31</th>\n",
       "      <td>2018-01-31</td>\n",
       "      <td>50110250</td>\n",
       "      <td>215.794788</td>\n",
       "      <td>8171132.984</td>\n",
       "    </tr>\n",
       "    <tr>\n",
       "      <th>2018-02-28</th>\n",
       "      <td>2018-02-28</td>\n",
       "      <td>50110250</td>\n",
       "      <td>213.713262</td>\n",
       "      <td>8605532.333</td>\n",
       "    </tr>\n",
       "    <tr>\n",
       "      <th>2018-03-31</th>\n",
       "      <td>2018-03-31</td>\n",
       "      <td>50110250</td>\n",
       "      <td>228.401338</td>\n",
       "      <td>8517373.716</td>\n",
       "    </tr>\n",
       "    <tr>\n",
       "      <th>2018-04-30</th>\n",
       "      <td>2018-04-30</td>\n",
       "      <td>50110250</td>\n",
       "      <td>239.895973</td>\n",
       "      <td>8640048.185</td>\n",
       "    </tr>\n",
       "    <tr>\n",
       "      <th>2018-05-31</th>\n",
       "      <td>2018-05-31</td>\n",
       "      <td>50110250</td>\n",
       "      <td>250.348387</td>\n",
       "      <td>9384709.810</td>\n",
       "    </tr>\n",
       "    <tr>\n",
       "      <th>...</th>\n",
       "      <td>...</td>\n",
       "      <td>...</td>\n",
       "      <td>...</td>\n",
       "      <td>...</td>\n",
       "    </tr>\n",
       "    <tr>\n",
       "      <th>2021-02-28</th>\n",
       "      <td>2021-02-28</td>\n",
       "      <td>50130620</td>\n",
       "      <td>65.216000</td>\n",
       "      <td>2463788.712</td>\n",
       "    </tr>\n",
       "    <tr>\n",
       "      <th>2021-03-31</th>\n",
       "      <td>2021-03-31</td>\n",
       "      <td>50130620</td>\n",
       "      <td>67.700000</td>\n",
       "      <td>2572585.700</td>\n",
       "    </tr>\n",
       "    <tr>\n",
       "      <th>2021-04-30</th>\n",
       "      <td>2021-04-30</td>\n",
       "      <td>50130620</td>\n",
       "      <td>68.642336</td>\n",
       "      <td>2473174.901</td>\n",
       "    </tr>\n",
       "    <tr>\n",
       "      <th>2021-05-31</th>\n",
       "      <td>2021-05-31</td>\n",
       "      <td>50130620</td>\n",
       "      <td>69.333333</td>\n",
       "      <td>2864493.949</td>\n",
       "    </tr>\n",
       "    <tr>\n",
       "      <th>2021-06-30</th>\n",
       "      <td>2021-06-30</td>\n",
       "      <td>50130620</td>\n",
       "      <td>69.892989</td>\n",
       "      <td>2404632.734</td>\n",
       "    </tr>\n",
       "  </tbody>\n",
       "</table>\n",
       "<p>1806 rows × 4 columns</p>\n",
       "</div>"
      ],
      "text/plain": [
       "            base_date    emd_cd    card_cnt     card_amt\n",
       "base_date                                               \n",
       "2018-01-31 2018-01-31  50110250  215.794788  8171132.984\n",
       "2018-02-28 2018-02-28  50110250  213.713262  8605532.333\n",
       "2018-03-31 2018-03-31  50110250  228.401338  8517373.716\n",
       "2018-04-30 2018-04-30  50110250  239.895973  8640048.185\n",
       "2018-05-31 2018-05-31  50110250  250.348387  9384709.810\n",
       "...               ...       ...         ...          ...\n",
       "2021-02-28 2021-02-28  50130620   65.216000  2463788.712\n",
       "2021-03-31 2021-03-31  50130620   67.700000  2572585.700\n",
       "2021-04-30 2021-04-30  50130620   68.642336  2473174.901\n",
       "2021-05-31 2021-05-31  50130620   69.333333  2864493.949\n",
       "2021-06-30 2021-06-30  50130620   69.892989  2404632.734\n",
       "\n",
       "[1806 rows x 4 columns]"
      ]
     },
     "execution_count": 2,
     "metadata": {},
     "output_type": "execute_result"
    }
   ],
   "source": [
    "##### 파일 불러오기 #####\n",
    "df = pd.read_csv(\"./data_preprocessing/4_card_spending_preprocessing.csv\", encoding='cp949')\n",
    "\n",
    "# 시계열 피처단위로 변경\n",
    "df['base_date'] = pd.to_datetime(df['base_date'])\n",
    "\n",
    "# base_date를 index로 설정\n",
    "df.index = df['base_date']\n",
    "df.columns = ['base_date', 'emd_cd', 'card_cnt', 'card_amt']  ##### 각자 데이터에 맞게 열이름 변경하기 #####\n",
    "df"
   ]
  },
  {
   "cell_type": "code",
   "execution_count": 3,
   "metadata": {},
   "outputs": [
    {
     "data": {
      "text/html": [
       "<div>\n",
       "<style scoped>\n",
       "    .dataframe tbody tr th:only-of-type {\n",
       "        vertical-align: middle;\n",
       "    }\n",
       "\n",
       "    .dataframe tbody tr th {\n",
       "        vertical-align: top;\n",
       "    }\n",
       "\n",
       "    .dataframe thead th {\n",
       "        text-align: right;\n",
       "    }\n",
       "</style>\n",
       "<table border=\"1\" class=\"dataframe\">\n",
       "  <thead>\n",
       "    <tr style=\"text-align: right;\">\n",
       "      <th></th>\n",
       "      <th>emd_cd</th>\n",
       "      <th>card_amt</th>\n",
       "    </tr>\n",
       "    <tr>\n",
       "      <th>base_date</th>\n",
       "      <th></th>\n",
       "      <th></th>\n",
       "    </tr>\n",
       "  </thead>\n",
       "  <tbody>\n",
       "    <tr>\n",
       "      <th>2018-01-31</th>\n",
       "      <td>50110250</td>\n",
       "      <td>8171132.984</td>\n",
       "    </tr>\n",
       "    <tr>\n",
       "      <th>2018-02-28</th>\n",
       "      <td>50110250</td>\n",
       "      <td>8605532.333</td>\n",
       "    </tr>\n",
       "    <tr>\n",
       "      <th>2018-03-31</th>\n",
       "      <td>50110250</td>\n",
       "      <td>8517373.716</td>\n",
       "    </tr>\n",
       "    <tr>\n",
       "      <th>2018-04-30</th>\n",
       "      <td>50110250</td>\n",
       "      <td>8640048.185</td>\n",
       "    </tr>\n",
       "    <tr>\n",
       "      <th>2018-05-31</th>\n",
       "      <td>50110250</td>\n",
       "      <td>9384709.810</td>\n",
       "    </tr>\n",
       "    <tr>\n",
       "      <th>...</th>\n",
       "      <td>...</td>\n",
       "      <td>...</td>\n",
       "    </tr>\n",
       "    <tr>\n",
       "      <th>2021-02-28</th>\n",
       "      <td>50130620</td>\n",
       "      <td>2463788.712</td>\n",
       "    </tr>\n",
       "    <tr>\n",
       "      <th>2021-03-31</th>\n",
       "      <td>50130620</td>\n",
       "      <td>2572585.700</td>\n",
       "    </tr>\n",
       "    <tr>\n",
       "      <th>2021-04-30</th>\n",
       "      <td>50130620</td>\n",
       "      <td>2473174.901</td>\n",
       "    </tr>\n",
       "    <tr>\n",
       "      <th>2021-05-31</th>\n",
       "      <td>50130620</td>\n",
       "      <td>2864493.949</td>\n",
       "    </tr>\n",
       "    <tr>\n",
       "      <th>2021-06-30</th>\n",
       "      <td>50130620</td>\n",
       "      <td>2404632.734</td>\n",
       "    </tr>\n",
       "  </tbody>\n",
       "</table>\n",
       "<p>1806 rows × 2 columns</p>\n",
       "</div>"
      ],
      "text/plain": [
       "              emd_cd     card_amt\n",
       "base_date                        \n",
       "2018-01-31  50110250  8171132.984\n",
       "2018-02-28  50110250  8605532.333\n",
       "2018-03-31  50110250  8517373.716\n",
       "2018-04-30  50110250  8640048.185\n",
       "2018-05-31  50110250  9384709.810\n",
       "...              ...          ...\n",
       "2021-02-28  50130620  2463788.712\n",
       "2021-03-31  50130620  2572585.700\n",
       "2021-04-30  50130620  2473174.901\n",
       "2021-05-31  50130620  2864493.949\n",
       "2021-06-30  50130620  2404632.734\n",
       "\n",
       "[1806 rows x 2 columns]"
      ]
     },
     "execution_count": 3,
     "metadata": {},
     "output_type": "execute_result"
    }
   ],
   "source": [
    "# 필요 없는 열 제거\n",
    "data = df.drop(['base_date', 'card_cnt'], 1)     ##### 각자 필요없는 열 제거 #####\n",
    "data"
   ]
  },
  {
   "cell_type": "code",
   "execution_count": 4,
   "metadata": {},
   "outputs": [
    {
     "data": {
      "text/html": [
       "<div>\n",
       "<style scoped>\n",
       "    .dataframe tbody tr th:only-of-type {\n",
       "        vertical-align: middle;\n",
       "    }\n",
       "\n",
       "    .dataframe tbody tr th {\n",
       "        vertical-align: top;\n",
       "    }\n",
       "\n",
       "    .dataframe thead th {\n",
       "        text-align: right;\n",
       "    }\n",
       "</style>\n",
       "<table border=\"1\" class=\"dataframe\">\n",
       "  <thead>\n",
       "    <tr style=\"text-align: right;\">\n",
       "      <th></th>\n",
       "      <th>card_amt</th>\n",
       "    </tr>\n",
       "    <tr>\n",
       "      <th>base_date</th>\n",
       "      <th></th>\n",
       "    </tr>\n",
       "  </thead>\n",
       "  <tbody>\n",
       "    <tr>\n",
       "      <th>2018-01-31</th>\n",
       "      <td>2231735.720</td>\n",
       "    </tr>\n",
       "    <tr>\n",
       "      <th>2018-02-28</th>\n",
       "      <td>2471802.058</td>\n",
       "    </tr>\n",
       "    <tr>\n",
       "      <th>2018-03-31</th>\n",
       "      <td>2033216.258</td>\n",
       "    </tr>\n",
       "    <tr>\n",
       "      <th>2018-04-30</th>\n",
       "      <td>2184983.868</td>\n",
       "    </tr>\n",
       "    <tr>\n",
       "      <th>2018-05-31</th>\n",
       "      <td>2364584.957</td>\n",
       "    </tr>\n",
       "  </tbody>\n",
       "</table>\n",
       "</div>"
      ],
      "text/plain": [
       "               card_amt\n",
       "base_date              \n",
       "2018-01-31  2231735.720\n",
       "2018-02-28  2471802.058\n",
       "2018-03-31  2033216.258\n",
       "2018-04-30  2184983.868\n",
       "2018-05-31  2364584.957"
      ]
     },
     "execution_count": 4,
     "metadata": {},
     "output_type": "execute_result"
    }
   ],
   "source": [
    "# 한 행정동의 행만 추출\n",
    "sub_area = data['emd_cd'] == 50130620\n",
    "\n",
    "# base_date, card_cnt 만 갖는 df 생성\n",
    "\n",
    "sub_df = data[sub_area]\n",
    "sub_df = sub_df.drop('emd_cd', 1)\n",
    "sub_df.head()"
   ]
  },
  {
   "cell_type": "code",
   "execution_count": 5,
   "metadata": {},
   "outputs": [
    {
     "data": {
      "text/html": [
       "<div>\n",
       "<style scoped>\n",
       "    .dataframe tbody tr th:only-of-type {\n",
       "        vertical-align: middle;\n",
       "    }\n",
       "\n",
       "    .dataframe tbody tr th {\n",
       "        vertical-align: top;\n",
       "    }\n",
       "\n",
       "    .dataframe thead th {\n",
       "        text-align: right;\n",
       "    }\n",
       "</style>\n",
       "<table border=\"1\" class=\"dataframe\">\n",
       "  <thead>\n",
       "    <tr style=\"text-align: right;\">\n",
       "      <th></th>\n",
       "      <th>card_amt</th>\n",
       "    </tr>\n",
       "    <tr>\n",
       "      <th>base_date</th>\n",
       "      <th></th>\n",
       "    </tr>\n",
       "  </thead>\n",
       "  <tbody>\n",
       "    <tr>\n",
       "      <th>2018-01-31</th>\n",
       "      <td>2231735.720</td>\n",
       "    </tr>\n",
       "    <tr>\n",
       "      <th>2018-02-28</th>\n",
       "      <td>2471802.058</td>\n",
       "    </tr>\n",
       "    <tr>\n",
       "      <th>2018-03-31</th>\n",
       "      <td>2033216.258</td>\n",
       "    </tr>\n",
       "    <tr>\n",
       "      <th>2018-04-30</th>\n",
       "      <td>2184983.868</td>\n",
       "    </tr>\n",
       "    <tr>\n",
       "      <th>2018-05-31</th>\n",
       "      <td>2364584.957</td>\n",
       "    </tr>\n",
       "  </tbody>\n",
       "</table>\n",
       "</div>"
      ],
      "text/plain": [
       "               card_amt\n",
       "base_date              \n",
       "2018-01-31  2231735.720\n",
       "2018-02-28  2471802.058\n",
       "2018-03-31  2033216.258\n",
       "2018-04-30  2184983.868\n",
       "2018-05-31  2364584.957"
      ]
     },
     "execution_count": 5,
     "metadata": {},
     "output_type": "execute_result"
    }
   ],
   "source": [
    "# series 형으로 변환\n",
    "sub_df.to_dict('series')\n",
    "sub_df.head()"
   ]
  },
  {
   "cell_type": "markdown",
   "metadata": {},
   "source": [
    "# ARIMA"
   ]
  },
  {
   "cell_type": "code",
   "execution_count": 6,
   "metadata": {},
   "outputs": [],
   "source": [
    "# ARIMA에 적합한 float로 바꾸는 과정\n",
    "sub_df_float = sub_df[:].astype(np.float)\n",
    "#sub_df_float.tail()"
   ]
  },
  {
   "cell_type": "code",
   "execution_count": 8,
   "metadata": {},
   "outputs": [
    {
     "name": "stdout",
     "output_type": "stream",
     "text": [
      "ADF Statistic : -3.512807\n",
      "p-value : 0.007664\n",
      "Critical Values :\n",
      "\t1%: -3.600983\n",
      "\t5%: -2.935135\n",
      "\t10%: -2.605963\n"
     ]
    }
   ],
   "source": [
    "# ADF 검정 - 정상성 확인하는 검정 (귀무 : 정상성 만족 x, 대립 : 정상성 만족)\n",
    "from statsmodels.tsa.stattools import adfuller\n",
    "\n",
    "result = adfuller(sub_df)\n",
    "print('ADF Statistic : %f' % result[0])\n",
    "print('p-value : %f' % result[1])\n",
    "print('Critical Values :')\n",
    "for key, value in result[4].items():\n",
    "    print('\\t%s: %3f' % (key, value))\n",
    "    \n",
    "##### 여기서 p-value 확인 -> 0.05보다 크면 아래로 내려가서 차분하기 / 작으면 차분 생략(아래 셀 생략) #####"
   ]
  },
  {
   "cell_type": "code",
   "execution_count": 9,
   "metadata": {},
   "outputs": [
    {
     "name": "stdout",
     "output_type": "stream",
     "text": [
      "ADF Statistic : -8.547878\n",
      "p-value : 0.000000\n",
      "Critical Values :\n",
      "\t1%: -3.605565\n",
      "\t5%: -2.937069\n",
      "\t10%: -2.606986\n"
     ]
    }
   ],
   "source": [
    "# 차분\n",
    "diff_1 = sub_df_float.diff(periods=1).iloc[1:]\n",
    "\n",
    "# ADF 검정 - 정상성 확인하는 검정 (귀무 : 정상성 만족 x, 대립 : 정상성 만족)\n",
    "result = adfuller(diff_1)\n",
    "print('ADF Statistic : %f' % result[0])\n",
    "print('p-value : %f' % result[1])\n",
    "print('Critical Values :')\n",
    "for key, value in result[4].items():\n",
    "    print('\\t%s: %3f' % (key, value))\n",
    "    \n",
    "##### 여기서 또 p-value 확인 -> 0.05보다 크면 이 파일 안되고 log파일로 넘어가세요 / 작으면 아래로 쭉 진행 #####"
   ]
  },
  {
   "cell_type": "code",
   "execution_count": 11,
   "metadata": {},
   "outputs": [
    {
     "name": "stdout",
     "output_type": "stream",
     "text": [
      " ARIMA(0,0,0)(0,0,0)[1] intercept   : AIC=1148.037, Time=0.04 sec\n",
      " ARIMA(0,0,1)(0,0,0)[1] intercept   : AIC=1141.501, Time=0.30 sec\n",
      " ARIMA(0,0,2)(0,0,0)[1] intercept   : AIC=1135.050, Time=0.03 sec\n",
      " ARIMA(0,0,3)(0,0,0)[1] intercept   : AIC=1136.682, Time=0.04 sec\n",
      " ARIMA(0,0,4)(0,0,0)[1] intercept   : AIC=1137.325, Time=0.05 sec\n",
      " ARIMA(0,0,5)(0,0,0)[1] intercept   : AIC=1138.555, Time=0.14 sec\n",
      " ARIMA(1,0,0)(0,0,0)[1] intercept   : AIC=1134.510, Time=0.02 sec\n",
      " ARIMA(1,0,1)(0,0,0)[1] intercept   : AIC=1137.906, Time=0.03 sec\n",
      " ARIMA(1,0,2)(0,0,0)[1] intercept   : AIC=1135.743, Time=0.07 sec\n",
      " ARIMA(1,0,3)(0,0,0)[1] intercept   : AIC=1137.396, Time=0.11 sec\n",
      " ARIMA(1,0,4)(0,0,0)[1] intercept   : AIC=1138.694, Time=0.11 sec\n",
      " ARIMA(2,0,0)(0,0,0)[1] intercept   : AIC=1134.882, Time=0.03 sec\n",
      " ARIMA(2,0,1)(0,0,0)[1] intercept   : AIC=1137.597, Time=0.08 sec\n",
      " ARIMA(2,0,2)(0,0,0)[1] intercept   : AIC=1137.546, Time=0.15 sec\n",
      " ARIMA(2,0,3)(0,0,0)[1] intercept   : AIC=1139.533, Time=0.32 sec\n",
      " ARIMA(3,0,0)(0,0,0)[1] intercept   : AIC=1136.185, Time=0.10 sec\n",
      " ARIMA(3,0,1)(0,0,0)[1] intercept   : AIC=1138.269, Time=0.16 sec\n",
      " ARIMA(3,0,2)(0,0,0)[1] intercept   : AIC=1139.531, Time=0.18 sec\n",
      " ARIMA(4,0,0)(0,0,0)[1] intercept   : AIC=1138.383, Time=0.11 sec\n",
      " ARIMA(4,0,1)(0,0,0)[1] intercept   : AIC=1139.577, Time=0.17 sec\n",
      " ARIMA(5,0,0)(0,0,0)[1] intercept   : AIC=1139.919, Time=0.33 sec\n",
      "\n",
      "Best model:  ARIMA(1,0,0)(0,0,0)[1] intercept\n",
      "Total fit time: 2.716 seconds\n"
     ]
    },
    {
     "data": {
      "text/plain": [
       "ARIMA(order=(1, 0, 0), scoring_args={}, seasonal_order=(0, 0, 0, 1),\n",
       "      suppress_warnings=True)"
      ]
     },
     "execution_count": 11,
     "metadata": {},
     "output_type": "execute_result"
    }
   ],
   "source": [
    "from pmdarima.arima import auto_arima\n",
    "\n",
    "model_arima= auto_arima(sub_df,trace=True, error_action='ignore',suppress_warnings=True,stepwise=False,seasonal=True)\n",
    "\n",
    "model_arima.fit(sub_df)\n",
    "\n",
    "##### 여기서 아래쪽에 'Best model:  ARIMA(0,1,0)(0,0,0)[1] intercept' 이렇게 나오면 (0,1,0) 가져다 쓸거임 #####\n",
    "##### ARIMA(0,1,0) 여기 숫자 세 개만 잘 보면 됨 !!!! #####"
   ]
  },
  {
   "cell_type": "code",
   "execution_count": 14,
   "metadata": {},
   "outputs": [
    {
     "name": "stdout",
     "output_type": "stream",
     "text": [
      "                              ARMA Model Results                              \n",
      "==============================================================================\n",
      "Dep. Variable:                      y   No. Observations:                   42\n",
      "Model:                     ARMA(1, 0)   Log Likelihood                -564.238\n",
      "Method:                       css-mle   S.D. of innovations         164487.916\n",
      "Date:                Sat, 11 Sep 2021   AIC                           1134.475\n",
      "Time:                        18:00:31   BIC                           1139.688\n",
      "Sample:                             0   HQIC                          1136.386\n",
      "                                                                              \n",
      "==============================================================================\n",
      "                 coef    std err          z      P>|z|      [0.025      0.975]\n",
      "------------------------------------------------------------------------------\n",
      "const        2.56e+06   5.75e+04     44.531      0.000    2.45e+06    2.67e+06\n",
      "ar.L1.y        0.5711      0.130      4.402      0.000       0.317       0.825\n",
      "                                    Roots                                    \n",
      "=============================================================================\n",
      "                  Real          Imaginary           Modulus         Frequency\n",
      "-----------------------------------------------------------------------------\n",
      "AR.1            1.7510           +0.0000j            1.7510            0.0000\n",
      "-----------------------------------------------------------------------------\n"
     ]
    },
    {
     "name": "stderr",
     "output_type": "stream",
     "text": [
      "C:\\Users\\pione\\Anaconda3\\lib\\site-packages\\statsmodels\\tsa\\arima_model.py:472: FutureWarning: \n",
      "statsmodels.tsa.arima_model.ARMA and statsmodels.tsa.arima_model.ARIMA have\n",
      "been deprecated in favor of statsmodels.tsa.arima.model.ARIMA (note the .\n",
      "between arima and model) and\n",
      "statsmodels.tsa.SARIMAX. These will be removed after the 0.12 release.\n",
      "\n",
      "statsmodels.tsa.arima.model.ARIMA makes use of the statespace framework and\n",
      "is both well tested and maintained.\n",
      "\n",
      "To silence this warning and continue using ARMA and ARIMA until they are\n",
      "removed, use:\n",
      "\n",
      "import warnings\n",
      "warnings.filterwarnings('ignore', 'statsmodels.tsa.arima_model.ARMA',\n",
      "                        FutureWarning)\n",
      "warnings.filterwarnings('ignore', 'statsmodels.tsa.arima_model.ARIMA',\n",
      "                        FutureWarning)\n",
      "\n",
      "  warnings.warn(ARIMA_DEPRECATION_WARN, FutureWarning)\n"
     ]
    }
   ],
   "source": [
    "####################################\n",
    "######### order 바꾸기 ############\n",
    "###################################\n",
    "# ARIMA 모델 \n",
    "from statsmodels.tsa.arima_model import ARIMA\n",
    "import statsmodels.api as sm\n",
    "\n",
    "# (AR=2, 차분=1, MA=2) 파라미터로 ARIMA 모델을 학습합니다.\n",
    "model = ARIMA(sub_df.card_amt.values, order=(1,0,0))    ##### 여기 order=(0,1,0)에 위에서 나온 숫자 넣는거 #####\n",
    "                                    ##### 그리고 sub_df.card_amt.values에서 가운데 card_amt 각자걸로 바꾸기 #####\n",
    "\n",
    "#trend : constant를 가지고 있는지, c - constant / nc - no constant\n",
    "#disp : 수렴 정보를 나타냄\n",
    "model_fit = model.fit(trend='c', full_output=True, disp=True)\n",
    "print(model_fit.summary())"
   ]
  },
  {
   "cell_type": "markdown",
   "metadata": {},
   "source": [
    "# 예측하기"
   ]
  },
  {
   "cell_type": "code",
   "execution_count": 15,
   "metadata": {},
   "outputs": [
    {
     "name": "stdout",
     "output_type": "stream",
     "text": [
      "(array([2471161.27417736, 2509156.41197109]), array([164487.91630228, 189423.17534839]), array([[2148770.88233285, 2793551.66602186],\n",
      "       [2137893.81045103, 2880419.01349115]]))\n"
     ]
    }
   ],
   "source": [
    "# 2단위 이후의 예측결과\n",
    "fore = model_fit.forecast(steps=2)\n",
    "print(fore)\n",
    "\n",
    "##### 맨 앞에 나온 'array([10681271.81014634, 10741037.02029268])' 이게 차례대로 7, 8월 예측값임 #####\n",
    "##### 7월 : 10681271.81014634, 8월 : 10741037.02029268 #####\n",
    "##### 이 값 가져다 엑셀파일에 입력하기 #####"
   ]
  },
  {
   "cell_type": "code",
   "execution_count": null,
   "metadata": {},
   "outputs": [],
   "source": []
  }
 ],
 "metadata": {
  "kernelspec": {
   "display_name": "Python 3",
   "language": "python",
   "name": "python3"
  },
  "language_info": {
   "codemirror_mode": {
    "name": "ipython",
    "version": 3
   },
   "file_extension": ".py",
   "mimetype": "text/x-python",
   "name": "python",
   "nbconvert_exporter": "python",
   "pygments_lexer": "ipython3",
   "version": "3.8.8"
  },
  "toc": {
   "base_numbering": 1,
   "nav_menu": {},
   "number_sections": true,
   "sideBar": true,
   "skip_h1_title": false,
   "title_cell": "Table of Contents",
   "title_sidebar": "Contents",
   "toc_cell": false,
   "toc_position": {},
   "toc_section_display": true,
   "toc_window_display": false
  }
 },
 "nbformat": 4,
 "nbformat_minor": 4
}
