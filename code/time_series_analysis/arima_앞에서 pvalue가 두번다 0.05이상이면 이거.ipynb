{
 "cells": [
  {
   "cell_type": "code",
   "execution_count": 68,
   "metadata": {},
   "outputs": [],
   "source": [
    "%matplotlib inline\n",
    "import matplotlib.pyplot as plt\n",
    "import pandas as pd\n",
    "import numpy as np\n",
    "import seaborn as sns\n",
    "#from plotly.offline import init_notebook_mode, iplot\n",
    "#import plotly.graph_objs as go\n",
    "import os\n",
    "import warnings"
   ]
  },
  {
   "cell_type": "markdown",
   "metadata": {},
   "source": [
    "# 파일 불러와서 열이름 바꾸기\n",
    "korean, long_term_frgn, short_term_frgn, resident, card_cnt, card_amt, waste_cnt\n",
    "(이거 예시는 waste_cnt임)"
   ]
  },
  {
   "cell_type": "code",
   "execution_count": 119,
   "metadata": {},
   "outputs": [
    {
     "data": {
      "text/html": [
       "<div>\n",
       "<style scoped>\n",
       "    .dataframe tbody tr th:only-of-type {\n",
       "        vertical-align: middle;\n",
       "    }\n",
       "\n",
       "    .dataframe tbody tr th {\n",
       "        vertical-align: top;\n",
       "    }\n",
       "\n",
       "    .dataframe thead th {\n",
       "        text-align: right;\n",
       "    }\n",
       "</style>\n",
       "<table border=\"1\" class=\"dataframe\">\n",
       "  <thead>\n",
       "    <tr style=\"text-align: right;\">\n",
       "      <th></th>\n",
       "      <th>base_date</th>\n",
       "      <th>emd_cd</th>\n",
       "      <th>waste_cnt</th>\n",
       "      <th>waste_amt</th>\n",
       "    </tr>\n",
       "    <tr>\n",
       "      <th>base_date</th>\n",
       "      <th></th>\n",
       "      <th></th>\n",
       "      <th></th>\n",
       "      <th></th>\n",
       "    </tr>\n",
       "  </thead>\n",
       "  <tbody>\n",
       "    <tr>\n",
       "      <th>2019-11-30</th>\n",
       "      <td>2019-11-30</td>\n",
       "      <td>50110250</td>\n",
       "      <td>620</td>\n",
       "      <td>2279550</td>\n",
       "    </tr>\n",
       "    <tr>\n",
       "      <th>2019-12-31</th>\n",
       "      <td>2019-12-31</td>\n",
       "      <td>50110250</td>\n",
       "      <td>8178</td>\n",
       "      <td>31493650</td>\n",
       "    </tr>\n",
       "    <tr>\n",
       "      <th>2020-01-31</th>\n",
       "      <td>2020-01-31</td>\n",
       "      <td>50110250</td>\n",
       "      <td>13042</td>\n",
       "      <td>49632850</td>\n",
       "    </tr>\n",
       "    <tr>\n",
       "      <th>2020-02-29</th>\n",
       "      <td>2020-02-29</td>\n",
       "      <td>50110250</td>\n",
       "      <td>12264</td>\n",
       "      <td>46197050</td>\n",
       "    </tr>\n",
       "    <tr>\n",
       "      <th>2020-03-31</th>\n",
       "      <td>2020-03-31</td>\n",
       "      <td>50110250</td>\n",
       "      <td>14316</td>\n",
       "      <td>52561750</td>\n",
       "    </tr>\n",
       "    <tr>\n",
       "      <th>...</th>\n",
       "      <td>...</td>\n",
       "      <td>...</td>\n",
       "      <td>...</td>\n",
       "      <td>...</td>\n",
       "    </tr>\n",
       "    <tr>\n",
       "      <th>2021-02-28</th>\n",
       "      <td>2021-02-28</td>\n",
       "      <td>50130620</td>\n",
       "      <td>4563</td>\n",
       "      <td>15566250</td>\n",
       "    </tr>\n",
       "    <tr>\n",
       "      <th>2021-03-31</th>\n",
       "      <td>2021-03-31</td>\n",
       "      <td>50130620</td>\n",
       "      <td>4920</td>\n",
       "      <td>17300600</td>\n",
       "    </tr>\n",
       "    <tr>\n",
       "      <th>2021-04-30</th>\n",
       "      <td>2021-04-30</td>\n",
       "      <td>50130620</td>\n",
       "      <td>5256</td>\n",
       "      <td>17646850</td>\n",
       "    </tr>\n",
       "    <tr>\n",
       "      <th>2021-05-31</th>\n",
       "      <td>2021-05-31</td>\n",
       "      <td>50130620</td>\n",
       "      <td>6346</td>\n",
       "      <td>19494750</td>\n",
       "    </tr>\n",
       "    <tr>\n",
       "      <th>2021-06-30</th>\n",
       "      <td>2021-06-30</td>\n",
       "      <td>50130620</td>\n",
       "      <td>6328</td>\n",
       "      <td>18753350</td>\n",
       "    </tr>\n",
       "  </tbody>\n",
       "</table>\n",
       "<p>1634 rows × 4 columns</p>\n",
       "</div>"
      ],
      "text/plain": [
       "            base_date    emd_cd  waste_cnt  waste_amt\n",
       "base_date                                            \n",
       "2019-11-30 2019-11-30  50110250        620    2279550\n",
       "2019-12-31 2019-12-31  50110250       8178   31493650\n",
       "2020-01-31 2020-01-31  50110250      13042   49632850\n",
       "2020-02-29 2020-02-29  50110250      12264   46197050\n",
       "2020-03-31 2020-03-31  50110250      14316   52561750\n",
       "...               ...       ...        ...        ...\n",
       "2021-02-28 2021-02-28  50130620       4563   15566250\n",
       "2021-03-31 2021-03-31  50130620       4920   17300600\n",
       "2021-04-30 2021-04-30  50130620       5256   17646850\n",
       "2021-05-31 2021-05-31  50130620       6346   19494750\n",
       "2021-06-30 2021-06-30  50130620       6328   18753350\n",
       "\n",
       "[1634 rows x 4 columns]"
      ]
     },
     "execution_count": 119,
     "metadata": {},
     "output_type": "execute_result"
    }
   ],
   "source": [
    "##### 파일 불러오기 #####\n",
    "df = pd.read_csv(\"C:\\\\Users\\\\asus\\\\BigContest\\\\files\\\\data_preprocessing\\\\1_food_waste_preprocessing.csv\", encoding='cp949')\n",
    "\n",
    "# 시계열 피처단위로 변경\n",
    "df['base_date'] = pd.to_datetime(df['base_date'])\n",
    "\n",
    "# base_date를 index로 설정\n",
    "df.index = df['base_date']\n",
    "df.columns = ['base_date', 'emd_cd', 'waste_cnt', 'waste_amt']  ##### 각자 데이터에 맞게 열이름 변경하기 #####\n",
    "df"
   ]
  },
  {
   "cell_type": "code",
   "execution_count": 120,
   "metadata": {},
   "outputs": [
    {
     "data": {
      "text/html": [
       "<div>\n",
       "<style scoped>\n",
       "    .dataframe tbody tr th:only-of-type {\n",
       "        vertical-align: middle;\n",
       "    }\n",
       "\n",
       "    .dataframe tbody tr th {\n",
       "        vertical-align: top;\n",
       "    }\n",
       "\n",
       "    .dataframe thead th {\n",
       "        text-align: right;\n",
       "    }\n",
       "</style>\n",
       "<table border=\"1\" class=\"dataframe\">\n",
       "  <thead>\n",
       "    <tr style=\"text-align: right;\">\n",
       "      <th></th>\n",
       "      <th>emd_cd</th>\n",
       "      <th>waste_cnt</th>\n",
       "    </tr>\n",
       "    <tr>\n",
       "      <th>base_date</th>\n",
       "      <th></th>\n",
       "      <th></th>\n",
       "    </tr>\n",
       "  </thead>\n",
       "  <tbody>\n",
       "    <tr>\n",
       "      <th>2019-11-30</th>\n",
       "      <td>50110250</td>\n",
       "      <td>620</td>\n",
       "    </tr>\n",
       "    <tr>\n",
       "      <th>2019-12-31</th>\n",
       "      <td>50110250</td>\n",
       "      <td>8178</td>\n",
       "    </tr>\n",
       "    <tr>\n",
       "      <th>2020-01-31</th>\n",
       "      <td>50110250</td>\n",
       "      <td>13042</td>\n",
       "    </tr>\n",
       "    <tr>\n",
       "      <th>2020-02-29</th>\n",
       "      <td>50110250</td>\n",
       "      <td>12264</td>\n",
       "    </tr>\n",
       "    <tr>\n",
       "      <th>2020-03-31</th>\n",
       "      <td>50110250</td>\n",
       "      <td>14316</td>\n",
       "    </tr>\n",
       "    <tr>\n",
       "      <th>...</th>\n",
       "      <td>...</td>\n",
       "      <td>...</td>\n",
       "    </tr>\n",
       "    <tr>\n",
       "      <th>2021-02-28</th>\n",
       "      <td>50130620</td>\n",
       "      <td>4563</td>\n",
       "    </tr>\n",
       "    <tr>\n",
       "      <th>2021-03-31</th>\n",
       "      <td>50130620</td>\n",
       "      <td>4920</td>\n",
       "    </tr>\n",
       "    <tr>\n",
       "      <th>2021-04-30</th>\n",
       "      <td>50130620</td>\n",
       "      <td>5256</td>\n",
       "    </tr>\n",
       "    <tr>\n",
       "      <th>2021-05-31</th>\n",
       "      <td>50130620</td>\n",
       "      <td>6346</td>\n",
       "    </tr>\n",
       "    <tr>\n",
       "      <th>2021-06-30</th>\n",
       "      <td>50130620</td>\n",
       "      <td>6328</td>\n",
       "    </tr>\n",
       "  </tbody>\n",
       "</table>\n",
       "<p>1634 rows × 2 columns</p>\n",
       "</div>"
      ],
      "text/plain": [
       "              emd_cd  waste_cnt\n",
       "base_date                      \n",
       "2019-11-30  50110250        620\n",
       "2019-12-31  50110250       8178\n",
       "2020-01-31  50110250      13042\n",
       "2020-02-29  50110250      12264\n",
       "2020-03-31  50110250      14316\n",
       "...              ...        ...\n",
       "2021-02-28  50130620       4563\n",
       "2021-03-31  50130620       4920\n",
       "2021-04-30  50130620       5256\n",
       "2021-05-31  50130620       6346\n",
       "2021-06-30  50130620       6328\n",
       "\n",
       "[1634 rows x 2 columns]"
      ]
     },
     "execution_count": 120,
     "metadata": {},
     "output_type": "execute_result"
    }
   ],
   "source": [
    "# 필요 없는 열 제거\n",
    "data = df.drop(['base_date', 'waste_amt'], 1)     ##### 각자 필요없는 열 제거 #####\n",
    "data"
   ]
  },
  {
   "cell_type": "code",
   "execution_count": 121,
   "metadata": {},
   "outputs": [
    {
     "data": {
      "text/html": [
       "<div>\n",
       "<style scoped>\n",
       "    .dataframe tbody tr th:only-of-type {\n",
       "        vertical-align: middle;\n",
       "    }\n",
       "\n",
       "    .dataframe tbody tr th {\n",
       "        vertical-align: top;\n",
       "    }\n",
       "\n",
       "    .dataframe thead th {\n",
       "        text-align: right;\n",
       "    }\n",
       "</style>\n",
       "<table border=\"1\" class=\"dataframe\">\n",
       "  <thead>\n",
       "    <tr style=\"text-align: right;\">\n",
       "      <th></th>\n",
       "      <th>waste_cnt</th>\n",
       "    </tr>\n",
       "    <tr>\n",
       "      <th>base_date</th>\n",
       "      <th></th>\n",
       "    </tr>\n",
       "  </thead>\n",
       "  <tbody>\n",
       "    <tr>\n",
       "      <th>2019-11-30</th>\n",
       "      <td>620</td>\n",
       "    </tr>\n",
       "    <tr>\n",
       "      <th>2019-12-31</th>\n",
       "      <td>8178</td>\n",
       "    </tr>\n",
       "    <tr>\n",
       "      <th>2020-01-31</th>\n",
       "      <td>13042</td>\n",
       "    </tr>\n",
       "    <tr>\n",
       "      <th>2020-02-29</th>\n",
       "      <td>12264</td>\n",
       "    </tr>\n",
       "    <tr>\n",
       "      <th>2020-03-31</th>\n",
       "      <td>14316</td>\n",
       "    </tr>\n",
       "    <tr>\n",
       "      <th>2020-04-30</th>\n",
       "      <td>14513</td>\n",
       "    </tr>\n",
       "    <tr>\n",
       "      <th>2020-05-31</th>\n",
       "      <td>17614</td>\n",
       "    </tr>\n",
       "    <tr>\n",
       "      <th>2020-06-30</th>\n",
       "      <td>17365</td>\n",
       "    </tr>\n",
       "    <tr>\n",
       "      <th>2020-07-31</th>\n",
       "      <td>23417</td>\n",
       "    </tr>\n",
       "    <tr>\n",
       "      <th>2020-08-31</th>\n",
       "      <td>24943</td>\n",
       "    </tr>\n",
       "    <tr>\n",
       "      <th>2020-09-30</th>\n",
       "      <td>21807</td>\n",
       "    </tr>\n",
       "    <tr>\n",
       "      <th>2020-10-31</th>\n",
       "      <td>21947</td>\n",
       "    </tr>\n",
       "    <tr>\n",
       "      <th>2020-11-30</th>\n",
       "      <td>19990</td>\n",
       "    </tr>\n",
       "    <tr>\n",
       "      <th>2020-12-31</th>\n",
       "      <td>19001</td>\n",
       "    </tr>\n",
       "    <tr>\n",
       "      <th>2021-01-31</th>\n",
       "      <td>18369</td>\n",
       "    </tr>\n",
       "    <tr>\n",
       "      <th>2021-02-28</th>\n",
       "      <td>17384</td>\n",
       "    </tr>\n",
       "    <tr>\n",
       "      <th>2021-03-31</th>\n",
       "      <td>19901</td>\n",
       "    </tr>\n",
       "    <tr>\n",
       "      <th>2021-04-30</th>\n",
       "      <td>20950</td>\n",
       "    </tr>\n",
       "    <tr>\n",
       "      <th>2021-05-31</th>\n",
       "      <td>24046</td>\n",
       "    </tr>\n",
       "    <tr>\n",
       "      <th>2021-06-30</th>\n",
       "      <td>25653</td>\n",
       "    </tr>\n",
       "  </tbody>\n",
       "</table>\n",
       "</div>"
      ],
      "text/plain": [
       "            waste_cnt\n",
       "base_date            \n",
       "2019-11-30        620\n",
       "2019-12-31       8178\n",
       "2020-01-31      13042\n",
       "2020-02-29      12264\n",
       "2020-03-31      14316\n",
       "2020-04-30      14513\n",
       "2020-05-31      17614\n",
       "2020-06-30      17365\n",
       "2020-07-31      23417\n",
       "2020-08-31      24943\n",
       "2020-09-30      21807\n",
       "2020-10-31      21947\n",
       "2020-11-30      19990\n",
       "2020-12-31      19001\n",
       "2021-01-31      18369\n",
       "2021-02-28      17384\n",
       "2021-03-31      19901\n",
       "2021-04-30      20950\n",
       "2021-05-31      24046\n",
       "2021-06-30      25653"
      ]
     },
     "execution_count": 121,
     "metadata": {},
     "output_type": "execute_result"
    }
   ],
   "source": [
    "# 한 행정동의 행만 추출\n",
    "sub_area = data['emd_cd'] == 50110250  ##### 각 행정동코드 입력 #####\n",
    "\n",
    "# base_date, card_amt 만 갖는 df 생성\n",
    "sub_df = data[sub_area]\n",
    "sub_df = sub_df.drop('emd_cd', 1)\n",
    "sub_df"
   ]
  },
  {
   "cell_type": "code",
   "execution_count": 122,
   "metadata": {},
   "outputs": [
    {
     "data": {
      "text/plain": [
       "{'waste_cnt': base_date\n",
       " 2019-11-30      620\n",
       " 2019-12-31     8178\n",
       " 2020-01-31    13042\n",
       " 2020-02-29    12264\n",
       " 2020-03-31    14316\n",
       " 2020-04-30    14513\n",
       " 2020-05-31    17614\n",
       " 2020-06-30    17365\n",
       " 2020-07-31    23417\n",
       " 2020-08-31    24943\n",
       " 2020-09-30    21807\n",
       " 2020-10-31    21947\n",
       " 2020-11-30    19990\n",
       " 2020-12-31    19001\n",
       " 2021-01-31    18369\n",
       " 2021-02-28    17384\n",
       " 2021-03-31    19901\n",
       " 2021-04-30    20950\n",
       " 2021-05-31    24046\n",
       " 2021-06-30    25653\n",
       " Name: waste_cnt, dtype: int64}"
      ]
     },
     "execution_count": 122,
     "metadata": {},
     "output_type": "execute_result"
    }
   ],
   "source": [
    "# series 형으로 변환\n",
    "sub_df.to_dict('series')"
   ]
  },
  {
   "cell_type": "markdown",
   "metadata": {},
   "source": [
    "# ARIMA"
   ]
  },
  {
   "cell_type": "code",
   "execution_count": 123,
   "metadata": {},
   "outputs": [],
   "source": [
    "# ARIMA에 적합한 log로 바꾸는 과정\n",
    "sub_df_log = np.log1p(sub_df[:])\n",
    "#sub_df_float.tail()"
   ]
  },
  {
   "cell_type": "code",
   "execution_count": 124,
   "metadata": {},
   "outputs": [
    {
     "name": "stdout",
     "output_type": "stream",
     "text": [
      "ADF Statistic : -0.383704\n",
      "p-value : 0.912784\n",
      "Critical Values :\n",
      "\t1%: -4.137829\n",
      "\t5%: -3.154972\n",
      "\t10%: -2.714477\n"
     ]
    }
   ],
   "source": [
    "# ADF 검정 - 정상성 확인하는 검정 (귀무 : 정상성 만족 x, 대립 : 정상성 만족)\n",
    "from statsmodels.tsa.stattools import adfuller\n",
    "\n",
    "result = adfuller(sub_df_log)\n",
    "print('ADF Statistic : %f' % result[0])\n",
    "print('p-value : %f' % result[1])\n",
    "print('Critical Values :')\n",
    "for key, value in result[4].items():\n",
    "    print('\\t%s: %3f' % (key, value))\n",
    "    \n",
    "##### 여기서 p-value 확인 -> 0.05보다 크면 아래로 내려가서 차분하기 / 작으면 차분 생략(아래 셀 생략) #####"
   ]
  },
  {
   "cell_type": "code",
   "execution_count": 126,
   "metadata": {},
   "outputs": [
    {
     "name": "stdout",
     "output_type": "stream",
     "text": [
      "ADF Statistic : -3.390853\n",
      "p-value : 0.011275\n",
      "Critical Values :\n",
      "\t1%: -4.137829\n",
      "\t5%: -3.154972\n",
      "\t10%: -2.714477\n"
     ]
    }
   ],
   "source": [
    "# 차분\n",
    "diff_1 = sub_df_log.diff(periods=1).iloc[1:]\n",
    "\n",
    "# ADF 검정 - 정상성 확인하는 검정 (귀무 : 정상성 만족 x, 대립 : 정상성 만족)\n",
    "result = adfuller(diff_1)\n",
    "print('ADF Statistic : %f' % result[0])\n",
    "print('p-value : %f' % result[1])\n",
    "print('Critical Values :')\n",
    "for key, value in result[4].items():\n",
    "    print('\\t%s: %3f' % (key, value))\n",
    "    \n",
    "##### 여기서 또 p-value 확인 -> 0.05보다 크면 얼른 단톡에 보고하기 / 작으면 아래로 쭉 진행 #####"
   ]
  },
  {
   "cell_type": "code",
   "execution_count": 115,
   "metadata": {},
   "outputs": [],
   "source": [
    "##### 이건 설치하는 거라 처음 돌릴 때 한 번만 주석 풀어서 설치하고 그 이후로는 필요없음! #####\n",
    "\n",
    "#!pip install pmdarima"
   ]
  },
  {
   "cell_type": "code",
   "execution_count": 127,
   "metadata": {},
   "outputs": [
    {
     "name": "stdout",
     "output_type": "stream",
     "text": [
      " ARIMA(0,1,0)(0,0,0)[1] intercept   : AIC=37.161, Time=0.03 sec\n",
      " ARIMA(0,1,1)(0,0,0)[1] intercept   : AIC=inf, Time=0.07 sec\n",
      " ARIMA(0,1,2)(0,0,0)[1] intercept   : AIC=inf, Time=0.11 sec\n",
      " ARIMA(0,1,3)(0,0,0)[1] intercept   : AIC=inf, Time=0.11 sec\n",
      " ARIMA(0,1,4)(0,0,0)[1] intercept   : AIC=inf, Time=0.25 sec\n",
      " ARIMA(0,1,5)(0,0,0)[1] intercept   : AIC=nan, Time=0.06 sec\n",
      " ARIMA(1,1,0)(0,0,0)[1] intercept   : AIC=36.203, Time=0.05 sec\n",
      " ARIMA(1,1,1)(0,0,0)[1] intercept   : AIC=35.050, Time=0.13 sec\n",
      " ARIMA(1,1,2)(0,0,0)[1] intercept   : AIC=36.979, Time=0.16 sec\n",
      " ARIMA(1,1,3)(0,0,0)[1] intercept   : AIC=inf, Time=0.16 sec\n",
      " ARIMA(1,1,4)(0,0,0)[1] intercept   : AIC=inf, Time=0.24 sec\n",
      " ARIMA(2,1,0)(0,0,0)[1] intercept   : AIC=36.522, Time=0.07 sec\n",
      " ARIMA(2,1,1)(0,0,0)[1] intercept   : AIC=inf, Time=0.18 sec\n",
      " ARIMA(2,1,2)(0,0,0)[1] intercept   : AIC=inf, Time=0.24 sec\n",
      " ARIMA(2,1,3)(0,0,0)[1] intercept   : AIC=40.770, Time=0.21 sec\n",
      " ARIMA(3,1,0)(0,0,0)[1] intercept   : AIC=38.323, Time=0.06 sec\n",
      " ARIMA(3,1,1)(0,0,0)[1] intercept   : AIC=inf, Time=0.20 sec\n",
      " ARIMA(3,1,2)(0,0,0)[1] intercept   : AIC=inf, Time=0.22 sec\n",
      " ARIMA(4,1,0)(0,0,0)[1] intercept   : AIC=40.279, Time=0.20 sec\n",
      " ARIMA(4,1,1)(0,0,0)[1] intercept   : AIC=inf, Time=0.28 sec\n",
      " ARIMA(5,1,0)(0,0,0)[1] intercept   : AIC=42.222, Time=0.19 sec\n",
      "\n",
      "Best model:  ARIMA(1,1,1)(0,0,0)[1] intercept\n",
      "Total fit time: 3.231 seconds\n"
     ]
    },
    {
     "data": {
      "text/plain": [
       "ARIMA(order=(1, 1, 1), scoring_args={}, seasonal_order=(0, 0, 0, 1),\n",
       "      suppress_warnings=True)"
      ]
     },
     "execution_count": 127,
     "metadata": {},
     "output_type": "execute_result"
    }
   ],
   "source": [
    "from pmdarima.arima import auto_arima\n",
    "\n",
    "model_arima= auto_arima(sub_df_log,trace=True, error_action='ignore',suppress_warnings=True,stepwise=False,seasonal=True)\n",
    "\n",
    "model_arima.fit(sub_df_log)\n",
    "\n",
    "##### 여기서 아래쪽에 'Best model:  ARIMA(1,1,1)(0,0,0)[1] intercept' 이렇게 나오면 (1,1,1) 가져다 쓸거임 #####\n",
    "##### ARIMA(1,1,1) 여기 숫자 세 개만 잘 보면 됨 !!!! #####"
   ]
  },
  {
   "cell_type": "code",
   "execution_count": 129,
   "metadata": {},
   "outputs": [
    {
     "name": "stderr",
     "output_type": "stream",
     "text": [
      "C:\\Users\\asus\\anaconda3\\lib\\site-packages\\statsmodels\\tsa\\arima_model.py:472: FutureWarning: \n",
      "statsmodels.tsa.arima_model.ARMA and statsmodels.tsa.arima_model.ARIMA have\n",
      "been deprecated in favor of statsmodels.tsa.arima.model.ARIMA (note the .\n",
      "between arima and model) and\n",
      "statsmodels.tsa.SARIMAX. These will be removed after the 0.12 release.\n",
      "\n",
      "statsmodels.tsa.arima.model.ARIMA makes use of the statespace framework and\n",
      "is both well tested and maintained.\n",
      "\n",
      "To silence this warning and continue using ARMA and ARIMA until they are\n",
      "removed, use:\n",
      "\n",
      "import warnings\n",
      "warnings.filterwarnings('ignore', 'statsmodels.tsa.arima_model.ARMA',\n",
      "                        FutureWarning)\n",
      "warnings.filterwarnings('ignore', 'statsmodels.tsa.arima_model.ARIMA',\n",
      "                        FutureWarning)\n",
      "\n",
      "  warnings.warn(ARIMA_DEPRECATION_WARN, FutureWarning)\n"
     ]
    },
    {
     "name": "stdout",
     "output_type": "stream",
     "text": [
      "                             ARIMA Model Results                              \n",
      "==============================================================================\n",
      "Dep. Variable:                    D.y   No. Observations:                   19\n",
      "Model:                 ARIMA(1, 1, 1)   Log Likelihood                 -13.524\n",
      "Method:                       css-mle   S.D. of innovations              0.452\n",
      "Date:                Fri, 10 Sep 2021   AIC                             35.049\n",
      "Time:                        00:54:13   BIC                             38.827\n",
      "Sample:                             1   HQIC                            35.688\n",
      "                                                                              \n",
      "==============================================================================\n",
      "                 coef    std err          z      P>|z|      [0.025      0.975]\n",
      "------------------------------------------------------------------------------\n",
      "const          0.2807      0.244      1.152      0.249      -0.197       0.758\n",
      "ar.L1.D.y      0.1506      0.374      0.403      0.687      -0.582       0.883\n",
      "ma.L1.D.y      0.9998      0.714      1.400      0.161      -0.400       2.399\n",
      "                                    Roots                                    \n",
      "=============================================================================\n",
      "                  Real          Imaginary           Modulus         Frequency\n",
      "-----------------------------------------------------------------------------\n",
      "AR.1            6.6417           +0.0000j            6.6417            0.0000\n",
      "MA.1           -1.0002           +0.0000j            1.0002            0.5000\n",
      "-----------------------------------------------------------------------------\n"
     ]
    },
    {
     "name": "stderr",
     "output_type": "stream",
     "text": [
      "C:\\Users\\asus\\anaconda3\\lib\\site-packages\\statsmodels\\tsa\\arima_model.py:472: FutureWarning: \n",
      "statsmodels.tsa.arima_model.ARMA and statsmodels.tsa.arima_model.ARIMA have\n",
      "been deprecated in favor of statsmodels.tsa.arima.model.ARIMA (note the .\n",
      "between arima and model) and\n",
      "statsmodels.tsa.SARIMAX. These will be removed after the 0.12 release.\n",
      "\n",
      "statsmodels.tsa.arima.model.ARIMA makes use of the statespace framework and\n",
      "is both well tested and maintained.\n",
      "\n",
      "To silence this warning and continue using ARMA and ARIMA until they are\n",
      "removed, use:\n",
      "\n",
      "import warnings\n",
      "warnings.filterwarnings('ignore', 'statsmodels.tsa.arima_model.ARMA',\n",
      "                        FutureWarning)\n",
      "warnings.filterwarnings('ignore', 'statsmodels.tsa.arima_model.ARIMA',\n",
      "                        FutureWarning)\n",
      "\n",
      "  warnings.warn(ARIMA_DEPRECATION_WARN, FutureWarning)\n"
     ]
    }
   ],
   "source": [
    "# ARIMA 모델 \n",
    "from statsmodels.tsa.arima_model import ARIMA\n",
    "import statsmodels.api as sm\n",
    "\n",
    "# (AR=2, 차분=1, MA=2) 파라미터로 ARIMA 모델을 학습합니다.\n",
    "model = ARIMA(sub_df_log.waste_cnt.values, order=(1,1,1))     ##### 여기 order=(1,1,1)에 위에서 나온 숫자 넣는거 #####\n",
    "                                   ##### 그리고 sub_df_log.waste_cnt.values에서 가운데 waste_cnt 각자걸로 바꾸기 #####\n",
    "\n",
    "#trend : constant를 가지고 있는지, c - constant / nc - no constant\n",
    "#disp : 수렴 정보를 나타냄\n",
    "model_fit = model.fit(trend='c', full_output=True, disp=True)\n",
    "print(model_fit.summary())"
   ]
  },
  {
   "cell_type": "markdown",
   "metadata": {},
   "source": [
    "# 예측하기"
   ]
  },
  {
   "cell_type": "code",
   "execution_count": 130,
   "metadata": {},
   "outputs": [
    {
     "name": "stdout",
     "output_type": "stream",
     "text": [
      "(array([10.05681231, 10.28080669]), array([0.45225605, 1.07253507]), array([[ 9.17040674, 10.94321787],\n",
      "       [ 8.17867659, 12.3829368 ]]))\n"
     ]
    }
   ],
   "source": [
    "# 2단위 이후의 예측결과\n",
    "fore = model_fit.forecast(steps=2)\n",
    "print(fore)\n",
    "\n",
    "##### 맨 앞에 나온 'array([10681271.81014634, 10741037.02029268])' 이게 차례대로 7, 8월 예측값에 로그씌운거임 #####\n",
    "##### 7월 : 10.05681231, 8월 : 10.28080669 #####\n",
    "##### 이거 지수함수에 넣어서 원래값으로 돌려야 함 -> 각각 가져다 밑에 넣기 #####"
   ]
  },
  {
   "cell_type": "code",
   "execution_count": 137,
   "metadata": {},
   "outputs": [
    {
     "name": "stdout",
     "output_type": "stream",
     "text": [
      "23313.069767720848\n",
      "29166.393110116605\n"
     ]
    }
   ],
   "source": [
    "# 이거 위에서 로그씌울 때 np.log1p 이거 써서 지수함수에 넣은 다음에 1 뺀거임\n",
    "# https://rfriend.tistory.com/295\n",
    "# 궁금하면 이 링크 들어가서 읽어보세요 질문받기 싫어서 미리 써놓음\n",
    "# 밑에 어떻게 되는지 예제코드도 넣었으니까 제발 질문 안해주길 ㅎ\n",
    "\n",
    "print( np.exp(10.05681231) - 1 )   ##### 괄호 안에 7월 숫자 넣기 #####\n",
    "print( np.exp(10.28080669) - 1 )   ##### 괄호 안에 8월 숫자 넣기 #####\n",
    "\n",
    "##### 이 값 가져다 엑셀파일에 입력하기 #####"
   ]
  },
  {
   "cell_type": "code",
   "execution_count": null,
   "metadata": {},
   "outputs": [],
   "source": []
  },
  {
   "cell_type": "code",
   "execution_count": 138,
   "metadata": {},
   "outputs": [
    {
     "name": "stdout",
     "output_type": "stream",
     "text": [
      "134 4.90527477843843 135.00000000000003\n"
     ]
    }
   ],
   "source": [
    "a = 134\n",
    "lna = np.log1p(a)  # a에 자연로그씌운거\n",
    "ea = np.exp(lna)  # 다시 지수함수에 넣은거\n",
    "print(a, lna, ea)  # 결과가 1 크게 나옴"
   ]
  },
  {
   "cell_type": "code",
   "execution_count": null,
   "metadata": {},
   "outputs": [],
   "source": []
  }
 ],
 "metadata": {
  "kernelspec": {
   "display_name": "Python 3",
   "language": "python",
   "name": "python3"
  },
  "language_info": {
   "codemirror_mode": {
    "name": "ipython",
    "version": 3
   },
   "file_extension": ".py",
   "mimetype": "text/x-python",
   "name": "python",
   "nbconvert_exporter": "python",
   "pygments_lexer": "ipython3",
   "version": "3.8.5"
  },
  "toc": {
   "base_numbering": 1,
   "nav_menu": {},
   "number_sections": true,
   "sideBar": true,
   "skip_h1_title": false,
   "title_cell": "Table of Contents",
   "title_sidebar": "Contents",
   "toc_cell": false,
   "toc_position": {},
   "toc_section_display": true,
   "toc_window_display": false
  }
 },
 "nbformat": 4,
 "nbformat_minor": 4
}
