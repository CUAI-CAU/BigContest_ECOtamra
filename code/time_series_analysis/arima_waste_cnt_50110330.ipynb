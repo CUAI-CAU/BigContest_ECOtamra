{
 "cells": [
  {
   "cell_type": "code",
   "execution_count": 22,
   "metadata": {},
   "outputs": [],
   "source": [
    "%matplotlib inline\n",
    "import matplotlib.pyplot as plt\n",
    "import pandas as pd\n",
    "import numpy as np\n",
    "import seaborn as sns\n",
    "#from plotly.offline import init_notebook_mode, iplot\n",
    "#import plotly.graph_objs as go\n",
    "import os\n",
    "import warnings"
   ]
  },
  {
   "cell_type": "markdown",
   "metadata": {},
   "source": [
    "# 파일 불러와서 열이름 바꾸기\n",
    "korean, long_term_frgn, short_term_frgn, resident, card_cnt, card_amt, waste_cnt\n",
    "(이거 예시는 card_amt임)"
   ]
  },
  {
   "cell_type": "code",
   "execution_count": 23,
   "metadata": {},
   "outputs": [
    {
     "data": {
      "text/html": [
       "<div>\n",
       "<style scoped>\n",
       "    .dataframe tbody tr th:only-of-type {\n",
       "        vertical-align: middle;\n",
       "    }\n",
       "\n",
       "    .dataframe tbody tr th {\n",
       "        vertical-align: top;\n",
       "    }\n",
       "\n",
       "    .dataframe thead th {\n",
       "        text-align: right;\n",
       "    }\n",
       "</style>\n",
       "<table border=\"1\" class=\"dataframe\">\n",
       "  <thead>\n",
       "    <tr style=\"text-align: right;\">\n",
       "      <th></th>\n",
       "      <th>base_date</th>\n",
       "      <th>emd_cd</th>\n",
       "      <th>waste_cnt</th>\n",
       "      <th>waste_amt</th>\n",
       "    </tr>\n",
       "    <tr>\n",
       "      <th>base_date</th>\n",
       "      <th></th>\n",
       "      <th></th>\n",
       "      <th></th>\n",
       "      <th></th>\n",
       "    </tr>\n",
       "  </thead>\n",
       "  <tbody>\n",
       "    <tr>\n",
       "      <th>2019-11-30</th>\n",
       "      <td>2019-11-30</td>\n",
       "      <td>50110250</td>\n",
       "      <td>620</td>\n",
       "      <td>2279550</td>\n",
       "    </tr>\n",
       "    <tr>\n",
       "      <th>2019-12-31</th>\n",
       "      <td>2019-12-31</td>\n",
       "      <td>50110250</td>\n",
       "      <td>8178</td>\n",
       "      <td>31493650</td>\n",
       "    </tr>\n",
       "    <tr>\n",
       "      <th>2020-01-31</th>\n",
       "      <td>2020-01-31</td>\n",
       "      <td>50110250</td>\n",
       "      <td>13042</td>\n",
       "      <td>49632850</td>\n",
       "    </tr>\n",
       "    <tr>\n",
       "      <th>2020-02-29</th>\n",
       "      <td>2020-02-29</td>\n",
       "      <td>50110250</td>\n",
       "      <td>12264</td>\n",
       "      <td>46197050</td>\n",
       "    </tr>\n",
       "    <tr>\n",
       "      <th>2020-03-31</th>\n",
       "      <td>2020-03-31</td>\n",
       "      <td>50110250</td>\n",
       "      <td>14316</td>\n",
       "      <td>52561750</td>\n",
       "    </tr>\n",
       "    <tr>\n",
       "      <th>...</th>\n",
       "      <td>...</td>\n",
       "      <td>...</td>\n",
       "      <td>...</td>\n",
       "      <td>...</td>\n",
       "    </tr>\n",
       "    <tr>\n",
       "      <th>2021-02-28</th>\n",
       "      <td>2021-02-28</td>\n",
       "      <td>50130620</td>\n",
       "      <td>4563</td>\n",
       "      <td>15566250</td>\n",
       "    </tr>\n",
       "    <tr>\n",
       "      <th>2021-03-31</th>\n",
       "      <td>2021-03-31</td>\n",
       "      <td>50130620</td>\n",
       "      <td>4920</td>\n",
       "      <td>17300600</td>\n",
       "    </tr>\n",
       "    <tr>\n",
       "      <th>2021-04-30</th>\n",
       "      <td>2021-04-30</td>\n",
       "      <td>50130620</td>\n",
       "      <td>5256</td>\n",
       "      <td>17646850</td>\n",
       "    </tr>\n",
       "    <tr>\n",
       "      <th>2021-05-31</th>\n",
       "      <td>2021-05-31</td>\n",
       "      <td>50130620</td>\n",
       "      <td>6346</td>\n",
       "      <td>19494750</td>\n",
       "    </tr>\n",
       "    <tr>\n",
       "      <th>2021-06-30</th>\n",
       "      <td>2021-06-30</td>\n",
       "      <td>50130620</td>\n",
       "      <td>6328</td>\n",
       "      <td>18753350</td>\n",
       "    </tr>\n",
       "  </tbody>\n",
       "</table>\n",
       "<p>1634 rows × 4 columns</p>\n",
       "</div>"
      ],
      "text/plain": [
       "            base_date    emd_cd  waste_cnt  waste_amt\n",
       "base_date                                            \n",
       "2019-11-30 2019-11-30  50110250        620    2279550\n",
       "2019-12-31 2019-12-31  50110250       8178   31493650\n",
       "2020-01-31 2020-01-31  50110250      13042   49632850\n",
       "2020-02-29 2020-02-29  50110250      12264   46197050\n",
       "2020-03-31 2020-03-31  50110250      14316   52561750\n",
       "...               ...       ...        ...        ...\n",
       "2021-02-28 2021-02-28  50130620       4563   15566250\n",
       "2021-03-31 2021-03-31  50130620       4920   17300600\n",
       "2021-04-30 2021-04-30  50130620       5256   17646850\n",
       "2021-05-31 2021-05-31  50130620       6346   19494750\n",
       "2021-06-30 2021-06-30  50130620       6328   18753350\n",
       "\n",
       "[1634 rows x 4 columns]"
      ]
     },
     "execution_count": 23,
     "metadata": {},
     "output_type": "execute_result"
    }
   ],
   "source": [
    "##### 파일 불러오기 #####\n",
    "df = pd.read_csv(\"C:\\\\Users\\\\asus\\\\BigContest\\\\files\\\\data_preprocessing\\\\1_food_waste_preprocessing.csv\", encoding='cp949')\n",
    "\n",
    "# 시계열 피처단위로 변경\n",
    "df['base_date'] = pd.to_datetime(df['base_date'])\n",
    "\n",
    "# base_date를 index로 설정\n",
    "df.index = df['base_date']\n",
    "df.columns = ['base_date', 'emd_cd', 'waste_cnt', 'waste_amt']  ##### 각자 데이터에 맞게 열이름 변경하기 #####\n",
    "df"
   ]
  },
  {
   "cell_type": "code",
   "execution_count": 24,
   "metadata": {},
   "outputs": [
    {
     "data": {
      "text/html": [
       "<div>\n",
       "<style scoped>\n",
       "    .dataframe tbody tr th:only-of-type {\n",
       "        vertical-align: middle;\n",
       "    }\n",
       "\n",
       "    .dataframe tbody tr th {\n",
       "        vertical-align: top;\n",
       "    }\n",
       "\n",
       "    .dataframe thead th {\n",
       "        text-align: right;\n",
       "    }\n",
       "</style>\n",
       "<table border=\"1\" class=\"dataframe\">\n",
       "  <thead>\n",
       "    <tr style=\"text-align: right;\">\n",
       "      <th></th>\n",
       "      <th>emd_cd</th>\n",
       "      <th>waste_cnt</th>\n",
       "    </tr>\n",
       "    <tr>\n",
       "      <th>base_date</th>\n",
       "      <th></th>\n",
       "      <th></th>\n",
       "    </tr>\n",
       "  </thead>\n",
       "  <tbody>\n",
       "    <tr>\n",
       "      <th>2019-11-30</th>\n",
       "      <td>50110250</td>\n",
       "      <td>620</td>\n",
       "    </tr>\n",
       "    <tr>\n",
       "      <th>2019-12-31</th>\n",
       "      <td>50110250</td>\n",
       "      <td>8178</td>\n",
       "    </tr>\n",
       "    <tr>\n",
       "      <th>2020-01-31</th>\n",
       "      <td>50110250</td>\n",
       "      <td>13042</td>\n",
       "    </tr>\n",
       "    <tr>\n",
       "      <th>2020-02-29</th>\n",
       "      <td>50110250</td>\n",
       "      <td>12264</td>\n",
       "    </tr>\n",
       "    <tr>\n",
       "      <th>2020-03-31</th>\n",
       "      <td>50110250</td>\n",
       "      <td>14316</td>\n",
       "    </tr>\n",
       "    <tr>\n",
       "      <th>...</th>\n",
       "      <td>...</td>\n",
       "      <td>...</td>\n",
       "    </tr>\n",
       "    <tr>\n",
       "      <th>2021-02-28</th>\n",
       "      <td>50130620</td>\n",
       "      <td>4563</td>\n",
       "    </tr>\n",
       "    <tr>\n",
       "      <th>2021-03-31</th>\n",
       "      <td>50130620</td>\n",
       "      <td>4920</td>\n",
       "    </tr>\n",
       "    <tr>\n",
       "      <th>2021-04-30</th>\n",
       "      <td>50130620</td>\n",
       "      <td>5256</td>\n",
       "    </tr>\n",
       "    <tr>\n",
       "      <th>2021-05-31</th>\n",
       "      <td>50130620</td>\n",
       "      <td>6346</td>\n",
       "    </tr>\n",
       "    <tr>\n",
       "      <th>2021-06-30</th>\n",
       "      <td>50130620</td>\n",
       "      <td>6328</td>\n",
       "    </tr>\n",
       "  </tbody>\n",
       "</table>\n",
       "<p>1634 rows × 2 columns</p>\n",
       "</div>"
      ],
      "text/plain": [
       "              emd_cd  waste_cnt\n",
       "base_date                      \n",
       "2019-11-30  50110250        620\n",
       "2019-12-31  50110250       8178\n",
       "2020-01-31  50110250      13042\n",
       "2020-02-29  50110250      12264\n",
       "2020-03-31  50110250      14316\n",
       "...              ...        ...\n",
       "2021-02-28  50130620       4563\n",
       "2021-03-31  50130620       4920\n",
       "2021-04-30  50130620       5256\n",
       "2021-05-31  50130620       6346\n",
       "2021-06-30  50130620       6328\n",
       "\n",
       "[1634 rows x 2 columns]"
      ]
     },
     "execution_count": 24,
     "metadata": {},
     "output_type": "execute_result"
    }
   ],
   "source": [
    "# 필요 없는 열 제거\n",
    "data = df.drop(['base_date', 'waste_amt'], 1)     ##### 각자 필요없는 열 제거 #####\n",
    "data"
   ]
  },
  {
   "cell_type": "code",
   "execution_count": 21,
   "metadata": {},
   "outputs": [
    {
     "data": {
      "text/html": [
       "<div>\n",
       "<style scoped>\n",
       "    .dataframe tbody tr th:only-of-type {\n",
       "        vertical-align: middle;\n",
       "    }\n",
       "\n",
       "    .dataframe tbody tr th {\n",
       "        vertical-align: top;\n",
       "    }\n",
       "\n",
       "    .dataframe thead th {\n",
       "        text-align: right;\n",
       "    }\n",
       "</style>\n",
       "<table border=\"1\" class=\"dataframe\">\n",
       "  <thead>\n",
       "    <tr style=\"text-align: right;\">\n",
       "      <th></th>\n",
       "      <th>waste_cnt</th>\n",
       "    </tr>\n",
       "    <tr>\n",
       "      <th>base_date</th>\n",
       "      <th></th>\n",
       "    </tr>\n",
       "  </thead>\n",
       "  <tbody>\n",
       "  </tbody>\n",
       "</table>\n",
       "</div>"
      ],
      "text/plain": [
       "Empty DataFrame\n",
       "Columns: [waste_cnt]\n",
       "Index: []"
      ]
     },
     "execution_count": 21,
     "metadata": {},
     "output_type": "execute_result"
    }
   ],
   "source": [
    "# 한 행정동의 행만 추출\n",
    "sub_area = data['emd_cd'] == 50110330  ##### 각 행정동코드 입력 #####\n",
    "\n",
    "# base_date, card_amt 만 갖는 df 생성\n",
    "sub_df = data[sub_area]\n",
    "sub_df = sub_df.drop('emd_cd', 1)\n",
    "sub_df"
   ]
  },
  {
   "cell_type": "code",
   "execution_count": 5,
   "metadata": {},
   "outputs": [
    {
     "data": {
      "text/plain": [
       "{'waste_cnt': base_date\n",
       " 2019-11-30     238\n",
       " 2019-12-31    1189\n",
       " 2020-01-31    2855\n",
       " 2020-02-29    3101\n",
       " 2020-03-31    3932\n",
       " 2020-04-30    4181\n",
       " 2020-05-31    5304\n",
       " 2020-06-30    5109\n",
       " 2020-07-31    6792\n",
       " 2020-08-31    7621\n",
       " 2020-09-30    6262\n",
       " 2020-10-31    6217\n",
       " 2020-11-30    5719\n",
       " 2020-12-31    5476\n",
       " 2021-01-31    5111\n",
       " 2021-02-28    4975\n",
       " 2021-03-31    5727\n",
       " 2021-04-30    6147\n",
       " 2021-05-31    7625\n",
       " 2021-06-30    8031\n",
       " Name: waste_cnt, dtype: int64}"
      ]
     },
     "execution_count": 5,
     "metadata": {},
     "output_type": "execute_result"
    }
   ],
   "source": [
    "# series 형으로 변환\n",
    "sub_df.to_dict('series')"
   ]
  },
  {
   "cell_type": "markdown",
   "metadata": {},
   "source": [
    "# ARIMA"
   ]
  },
  {
   "cell_type": "code",
   "execution_count": 6,
   "metadata": {},
   "outputs": [],
   "source": [
    "# ARIMA에 적합한 float로 바꾸는 과정\n",
    "sub_df_float = sub_df[:].astype(np.float)\n",
    "#sub_df_float.tail()"
   ]
  },
  {
   "cell_type": "code",
   "execution_count": 7,
   "metadata": {},
   "outputs": [
    {
     "name": "stdout",
     "output_type": "stream",
     "text": [
      "ADF Statistic : -2.229744\n",
      "p-value : 0.195628\n",
      "Critical Values :\n",
      "\t1%: -4.223238\n",
      "\t5%: -3.189369\n",
      "\t10%: -2.729839\n"
     ]
    }
   ],
   "source": [
    "# ADF 검정 - 정상성 확인하는 검정 (귀무 : 정상성 만족 x, 대립 : 정상성 만족)\n",
    "from statsmodels.tsa.stattools import adfuller\n",
    "\n",
    "result = adfuller(sub_df)\n",
    "print('ADF Statistic : %f' % result[0])\n",
    "print('p-value : %f' % result[1])\n",
    "print('Critical Values :')\n",
    "for key, value in result[4].items():\n",
    "    print('\\t%s: %3f' % (key, value))\n",
    "    \n",
    "##### 여기서 p-value 확인 -> 0.05보다 크면 아래로 내려가서 차분하기 / 작으면 차분 생략(아래 셀 생략) #####"
   ]
  },
  {
   "cell_type": "code",
   "execution_count": 8,
   "metadata": {},
   "outputs": [
    {
     "name": "stdout",
     "output_type": "stream",
     "text": [
      "ADF Statistic : -4.336202\n",
      "p-value : 0.000384\n",
      "Critical Values :\n",
      "\t1%: -4.223238\n",
      "\t5%: -3.189369\n",
      "\t10%: -2.729839\n"
     ]
    }
   ],
   "source": [
    "# 차분\n",
    "diff_1 = sub_df_float.diff(periods=1).iloc[1:]\n",
    "\n",
    "# ADF 검정 - 정상성 확인하는 검정 (귀무 : 정상성 만족 x, 대립 : 정상성 만족)\n",
    "result = adfuller(diff_1)\n",
    "print('ADF Statistic : %f' % result[0])\n",
    "print('p-value : %f' % result[1])\n",
    "print('Critical Values :')\n",
    "for key, value in result[4].items():\n",
    "    print('\\t%s: %3f' % (key, value))\n",
    "    \n",
    "##### 여기서 또 p-value 확인 -> 0.05보다 크면 이 파일 안되고 log파일로 넘어가세요 / 작으면 아래로 쭉 진행 #####"
   ]
  },
  {
   "cell_type": "code",
   "execution_count": 9,
   "metadata": {},
   "outputs": [],
   "source": [
    "##### 이건 설치하는 거라 처음 돌릴 때 한 번만 주석 풀어서 설치하고 그 이후로는 필요없음! #####\n",
    "\n",
    "#!pip install pmdarima"
   ]
  },
  {
   "cell_type": "code",
   "execution_count": 10,
   "metadata": {},
   "outputs": [
    {
     "name": "stdout",
     "output_type": "stream",
     "text": [
      " ARIMA(0,1,0)(0,0,0)[1] intercept   : AIC=310.898, Time=0.06 sec\n",
      " ARIMA(0,1,1)(0,0,0)[1] intercept   : AIC=312.708, Time=0.04 sec\n",
      " ARIMA(0,1,2)(0,0,0)[1] intercept   : AIC=314.065, Time=0.11 sec\n",
      " ARIMA(0,1,3)(0,0,0)[1] intercept   : AIC=315.547, Time=0.15 sec\n",
      " ARIMA(0,1,4)(0,0,0)[1] intercept   : AIC=inf, Time=0.11 sec\n",
      " ARIMA(0,1,5)(0,0,0)[1] intercept   : AIC=nan, Time=0.07 sec\n",
      " ARIMA(1,1,0)(0,0,0)[1] intercept   : AIC=312.680, Time=0.01 sec\n",
      " ARIMA(1,1,1)(0,0,0)[1] intercept   : AIC=314.340, Time=0.08 sec\n",
      " ARIMA(1,1,2)(0,0,0)[1] intercept   : AIC=315.837, Time=0.03 sec\n",
      " ARIMA(1,1,3)(0,0,0)[1] intercept   : AIC=317.382, Time=0.16 sec\n",
      " ARIMA(1,1,4)(0,0,0)[1] intercept   : AIC=inf, Time=0.19 sec\n",
      " ARIMA(2,1,0)(0,0,0)[1] intercept   : AIC=313.975, Time=0.08 sec\n",
      " ARIMA(2,1,1)(0,0,0)[1] intercept   : AIC=315.977, Time=0.03 sec\n",
      " ARIMA(2,1,2)(0,0,0)[1] intercept   : AIC=inf, Time=0.18 sec\n",
      " ARIMA(2,1,3)(0,0,0)[1] intercept   : AIC=inf, Time=0.19 sec\n",
      " ARIMA(3,1,0)(0,0,0)[1] intercept   : AIC=315.894, Time=0.07 sec\n",
      " ARIMA(3,1,1)(0,0,0)[1] intercept   : AIC=317.975, Time=0.05 sec\n",
      " ARIMA(3,1,2)(0,0,0)[1] intercept   : AIC=inf, Time=0.28 sec\n",
      " ARIMA(4,1,0)(0,0,0)[1] intercept   : AIC=317.716, Time=0.08 sec\n",
      " ARIMA(4,1,1)(0,0,0)[1] intercept   : AIC=inf, Time=0.19 sec\n",
      " ARIMA(5,1,0)(0,0,0)[1] intercept   : AIC=319.494, Time=0.08 sec\n",
      "\n",
      "Best model:  ARIMA(0,1,0)(0,0,0)[1] intercept\n",
      "Total fit time: 2.267 seconds\n"
     ]
    },
    {
     "data": {
      "text/plain": [
       "ARIMA(order=(0, 1, 0), scoring_args={}, seasonal_order=(0, 0, 0, 1),\n",
       "      suppress_warnings=True)"
      ]
     },
     "execution_count": 10,
     "metadata": {},
     "output_type": "execute_result"
    }
   ],
   "source": [
    "from pmdarima.arima import auto_arima\n",
    "\n",
    "model_arima= auto_arima(sub_df,trace=True, error_action='ignore',suppress_warnings=True,stepwise=False,seasonal=True)\n",
    "\n",
    "model_arima.fit(sub_df)\n",
    "\n",
    "##### 여기서 아래쪽에 'Best model:  ARIMA(0,1,0)(0,0,0)[1] intercept' 이렇게 나오면 (0,1,0) 가져다 쓸거임 #####\n",
    "##### ARIMA(0,1,0) 여기 숫자 세 개만 잘 보면 됨 !!!! #####"
   ]
  },
  {
   "cell_type": "code",
   "execution_count": 13,
   "metadata": {},
   "outputs": [
    {
     "name": "stdout",
     "output_type": "stream",
     "text": [
      "                             ARIMA Model Results                              \n",
      "==============================================================================\n",
      "Dep. Variable:                    D.y   No. Observations:                   19\n",
      "Model:                 ARIMA(1, 1, 0)   Log Likelihood                -153.316\n",
      "Method:                       css-mle   S.D. of innovations            772.759\n",
      "Date:                Fri, 10 Sep 2021   AIC                            312.632\n",
      "Time:                        14:59:06   BIC                            315.465\n",
      "Sample:                             1   HQIC                           313.112\n",
      "                                                                              \n",
      "==============================================================================\n",
      "                 coef    std err          z      P>|z|      [0.025      0.975]\n",
      "------------------------------------------------------------------------------\n",
      "const        413.8097    199.434      2.075      0.038      22.927     804.692\n",
      "ar.L1.D.y      0.1165      0.225      0.518      0.604      -0.324       0.557\n",
      "                                    Roots                                    \n",
      "=============================================================================\n",
      "                  Real          Imaginary           Modulus         Frequency\n",
      "-----------------------------------------------------------------------------\n",
      "AR.1            8.5853           +0.0000j            8.5853            0.0000\n",
      "-----------------------------------------------------------------------------\n"
     ]
    },
    {
     "name": "stderr",
     "output_type": "stream",
     "text": [
      "C:\\Users\\asus\\anaconda3\\lib\\site-packages\\statsmodels\\tsa\\arima_model.py:472: FutureWarning: \n",
      "statsmodels.tsa.arima_model.ARMA and statsmodels.tsa.arima_model.ARIMA have\n",
      "been deprecated in favor of statsmodels.tsa.arima.model.ARIMA (note the .\n",
      "between arima and model) and\n",
      "statsmodels.tsa.SARIMAX. These will be removed after the 0.12 release.\n",
      "\n",
      "statsmodels.tsa.arima.model.ARIMA makes use of the statespace framework and\n",
      "is both well tested and maintained.\n",
      "\n",
      "To silence this warning and continue using ARMA and ARIMA until they are\n",
      "removed, use:\n",
      "\n",
      "import warnings\n",
      "warnings.filterwarnings('ignore', 'statsmodels.tsa.arima_model.ARMA',\n",
      "                        FutureWarning)\n",
      "warnings.filterwarnings('ignore', 'statsmodels.tsa.arima_model.ARIMA',\n",
      "                        FutureWarning)\n",
      "\n",
      "  warnings.warn(ARIMA_DEPRECATION_WARN, FutureWarning)\n"
     ]
    }
   ],
   "source": [
    "# ARIMA 모델 \n",
    "from statsmodels.tsa.arima_model import ARIMA\n",
    "import statsmodels.api as sm\n",
    "\n",
    "# (AR=2, 차분=1, MA=2) 파라미터로 ARIMA 모델을 학습합니다.\n",
    "model = ARIMA(sub_df.waste_cnt.values, order=(1,1,0))     ##### 여기 order=(0,1,0)에 위에서 나온 숫자 넣는거 #####\n",
    "                                    ##### 그리고 sub_df.card_amt.values에서 가운데 card_amt 각자걸로 바꾸기 #####\n",
    "\n",
    "#trend : constant를 가지고 있는지, c - constant / nc - no constant\n",
    "#disp : 수렴 정보를 나타냄\n",
    "model_fit = model.fit(trend='c', full_output=True, disp=True)\n",
    "print(model_fit.summary())"
   ]
  },
  {
   "cell_type": "markdown",
   "metadata": {},
   "source": [
    "# 예측하기"
   ]
  },
  {
   "cell_type": "code",
   "execution_count": 14,
   "metadata": {},
   "outputs": [
    {
     "name": "stdout",
     "output_type": "stream",
     "text": [
      "(array([8443.90005654, 8857.6038171 ]), array([ 772.75937299, 1158.243054  ]), array([[ 6929.31951676,  9958.48059631],\n",
      "       [ 6587.48914592, 11127.71848828]]))\n"
     ]
    }
   ],
   "source": [
    "# 2단위 이후의 예측결과\n",
    "fore = model_fit.forecast(steps=2)\n",
    "print(fore)\n",
    "\n",
    "##### 맨 앞에 나온 'array([10681271.81014634, 10741037.02029268])' 이게 차례대로 7, 8월 예측값임 #####\n",
    "##### 7월 : 10681271.81014634, 8월 : 10741037.02029268 #####\n",
    "##### 이 값 가져다 엑셀파일에 입력하기 #####"
   ]
  },
  {
   "cell_type": "code",
   "execution_count": null,
   "metadata": {},
   "outputs": [],
   "source": []
  }
 ],
 "metadata": {
  "kernelspec": {
   "display_name": "Python 3",
   "language": "python",
   "name": "python3"
  },
  "language_info": {
   "codemirror_mode": {
    "name": "ipython",
    "version": 3
   },
   "file_extension": ".py",
   "mimetype": "text/x-python",
   "name": "python",
   "nbconvert_exporter": "python",
   "pygments_lexer": "ipython3",
   "version": "3.8.5"
  },
  "toc": {
   "base_numbering": 1,
   "nav_menu": {},
   "number_sections": true,
   "sideBar": true,
   "skip_h1_title": false,
   "title_cell": "Table of Contents",
   "title_sidebar": "Contents",
   "toc_cell": false,
   "toc_position": {},
   "toc_section_display": true,
   "toc_window_display": false
  }
 },
 "nbformat": 4,
 "nbformat_minor": 4
}
