{
 "cells": [
  {
   "cell_type": "code",
   "execution_count": 1,
   "metadata": {},
   "outputs": [],
   "source": [
    "%matplotlib inline\n",
    "import matplotlib.pyplot as plt\n",
    "import pandas as pd\n",
    "import numpy as np\n",
    "import seaborn as sns\n",
    "#from plotly.offline import init_notebook_mode, iplot\n",
    "#import plotly.graph_objs as go\n",
    "import os\n",
    "import warnings"
   ]
  },
  {
   "cell_type": "markdown",
   "metadata": {},
   "source": [
    "# 파일 불러와서 열이름 바꾸기\n",
    "korean, long_term_frgn, short_term_frgn, resident, card_cnt, card_amt, waste_cnt\n",
    "(이거 예시는 waste_cnt임)"
   ]
  },
  {
   "cell_type": "code",
   "execution_count": 4,
   "metadata": {},
   "outputs": [
    {
     "data": {
      "text/html": [
       "<div>\n",
       "<style scoped>\n",
       "    .dataframe tbody tr th:only-of-type {\n",
       "        vertical-align: middle;\n",
       "    }\n",
       "\n",
       "    .dataframe tbody tr th {\n",
       "        vertical-align: top;\n",
       "    }\n",
       "\n",
       "    .dataframe thead th {\n",
       "        text-align: right;\n",
       "    }\n",
       "</style>\n",
       "<table border=\"1\" class=\"dataframe\">\n",
       "  <thead>\n",
       "    <tr style=\"text-align: right;\">\n",
       "      <th></th>\n",
       "      <th>em_g</th>\n",
       "    </tr>\n",
       "  </thead>\n",
       "  <tbody>\n",
       "    <tr>\n",
       "      <th>2018-01-31</th>\n",
       "      <td>8880900</td>\n",
       "    </tr>\n",
       "    <tr>\n",
       "      <th>2018-02-28</th>\n",
       "      <td>7543950</td>\n",
       "    </tr>\n",
       "    <tr>\n",
       "      <th>2018-03-31</th>\n",
       "      <td>9287150</td>\n",
       "    </tr>\n",
       "    <tr>\n",
       "      <th>2018-04-30</th>\n",
       "      <td>9853350</td>\n",
       "    </tr>\n",
       "    <tr>\n",
       "      <th>2018-05-31</th>\n",
       "      <td>10290950</td>\n",
       "    </tr>\n",
       "    <tr>\n",
       "      <th>2018-06-30</th>\n",
       "      <td>10533050</td>\n",
       "    </tr>\n",
       "    <tr>\n",
       "      <th>2018-07-31</th>\n",
       "      <td>11860200</td>\n",
       "    </tr>\n",
       "    <tr>\n",
       "      <th>2018-08-31</th>\n",
       "      <td>12184350</td>\n",
       "    </tr>\n",
       "    <tr>\n",
       "      <th>2018-09-30</th>\n",
       "      <td>9085850</td>\n",
       "    </tr>\n",
       "    <tr>\n",
       "      <th>2018-10-31</th>\n",
       "      <td>9371850</td>\n",
       "    </tr>\n",
       "    <tr>\n",
       "      <th>2018-11-30</th>\n",
       "      <td>9997100</td>\n",
       "    </tr>\n",
       "    <tr>\n",
       "      <th>2018-12-31</th>\n",
       "      <td>8593600</td>\n",
       "    </tr>\n",
       "    <tr>\n",
       "      <th>2019-01-31</th>\n",
       "      <td>5044050</td>\n",
       "    </tr>\n",
       "    <tr>\n",
       "      <th>2019-02-28</th>\n",
       "      <td>0</td>\n",
       "    </tr>\n",
       "    <tr>\n",
       "      <th>2019-03-31</th>\n",
       "      <td>0</td>\n",
       "    </tr>\n",
       "    <tr>\n",
       "      <th>2019-04-30</th>\n",
       "      <td>0</td>\n",
       "    </tr>\n",
       "    <tr>\n",
       "      <th>2019-05-31</th>\n",
       "      <td>0</td>\n",
       "    </tr>\n",
       "    <tr>\n",
       "      <th>2019-06-30</th>\n",
       "      <td>0</td>\n",
       "    </tr>\n",
       "    <tr>\n",
       "      <th>2019-07-31</th>\n",
       "      <td>0</td>\n",
       "    </tr>\n",
       "    <tr>\n",
       "      <th>2019-08-31</th>\n",
       "      <td>0</td>\n",
       "    </tr>\n",
       "    <tr>\n",
       "      <th>2019-09-30</th>\n",
       "      <td>482950</td>\n",
       "    </tr>\n",
       "    <tr>\n",
       "      <th>2019-10-31</th>\n",
       "      <td>550350</td>\n",
       "    </tr>\n",
       "    <tr>\n",
       "      <th>2019-11-30</th>\n",
       "      <td>621300</td>\n",
       "    </tr>\n",
       "    <tr>\n",
       "      <th>2019-12-31</th>\n",
       "      <td>828350</td>\n",
       "    </tr>\n",
       "    <tr>\n",
       "      <th>2020-01-31</th>\n",
       "      <td>645900</td>\n",
       "    </tr>\n",
       "    <tr>\n",
       "      <th>2020-02-29</th>\n",
       "      <td>337600</td>\n",
       "    </tr>\n",
       "    <tr>\n",
       "      <th>2020-03-31</th>\n",
       "      <td>0</td>\n",
       "    </tr>\n",
       "    <tr>\n",
       "      <th>2020-04-30</th>\n",
       "      <td>0</td>\n",
       "    </tr>\n",
       "    <tr>\n",
       "      <th>2020-05-31</th>\n",
       "      <td>0</td>\n",
       "    </tr>\n",
       "    <tr>\n",
       "      <th>2020-06-30</th>\n",
       "      <td>836200</td>\n",
       "    </tr>\n",
       "    <tr>\n",
       "      <th>2020-07-31</th>\n",
       "      <td>1372799</td>\n",
       "    </tr>\n",
       "    <tr>\n",
       "      <th>2020-08-31</th>\n",
       "      <td>2387650</td>\n",
       "    </tr>\n",
       "    <tr>\n",
       "      <th>2020-09-30</th>\n",
       "      <td>2010300</td>\n",
       "    </tr>\n",
       "    <tr>\n",
       "      <th>2020-10-31</th>\n",
       "      <td>2226900</td>\n",
       "    </tr>\n",
       "    <tr>\n",
       "      <th>2020-11-30</th>\n",
       "      <td>2088750</td>\n",
       "    </tr>\n",
       "    <tr>\n",
       "      <th>2020-12-31</th>\n",
       "      <td>2147470</td>\n",
       "    </tr>\n",
       "    <tr>\n",
       "      <th>2021-01-31</th>\n",
       "      <td>2057700</td>\n",
       "    </tr>\n",
       "    <tr>\n",
       "      <th>2021-02-28</th>\n",
       "      <td>1985100</td>\n",
       "    </tr>\n",
       "    <tr>\n",
       "      <th>2021-03-31</th>\n",
       "      <td>2153800</td>\n",
       "    </tr>\n",
       "    <tr>\n",
       "      <th>2021-04-30</th>\n",
       "      <td>1936900</td>\n",
       "    </tr>\n",
       "    <tr>\n",
       "      <th>2021-05-31</th>\n",
       "      <td>1910750</td>\n",
       "    </tr>\n",
       "    <tr>\n",
       "      <th>2021-06-30</th>\n",
       "      <td>2157850</td>\n",
       "    </tr>\n",
       "  </tbody>\n",
       "</table>\n",
       "</div>"
      ],
      "text/plain": [
       "                em_g\n",
       "2018-01-31   8880900\n",
       "2018-02-28   7543950\n",
       "2018-03-31   9287150\n",
       "2018-04-30   9853350\n",
       "2018-05-31  10290950\n",
       "2018-06-30  10533050\n",
       "2018-07-31  11860200\n",
       "2018-08-31  12184350\n",
       "2018-09-30   9085850\n",
       "2018-10-31   9371850\n",
       "2018-11-30   9997100\n",
       "2018-12-31   8593600\n",
       "2019-01-31   5044050\n",
       "2019-02-28         0\n",
       "2019-03-31         0\n",
       "2019-04-30         0\n",
       "2019-05-31         0\n",
       "2019-06-30         0\n",
       "2019-07-31         0\n",
       "2019-08-31         0\n",
       "2019-09-30    482950\n",
       "2019-10-31    550350\n",
       "2019-11-30    621300\n",
       "2019-12-31    828350\n",
       "2020-01-31    645900\n",
       "2020-02-29    337600\n",
       "2020-03-31         0\n",
       "2020-04-30         0\n",
       "2020-05-31         0\n",
       "2020-06-30    836200\n",
       "2020-07-31   1372799\n",
       "2020-08-31   2387650\n",
       "2020-09-30   2010300\n",
       "2020-10-31   2226900\n",
       "2020-11-30   2088750\n",
       "2020-12-31   2147470\n",
       "2021-01-31   2057700\n",
       "2021-02-28   1985100\n",
       "2021-03-31   2153800\n",
       "2021-04-30   1936900\n",
       "2021-05-31   1910750\n",
       "2021-06-30   2157850"
      ]
     },
     "execution_count": 4,
     "metadata": {},
     "output_type": "execute_result"
    }
   ],
   "source": [
    "##### 파일 불러오기 #####\n",
    "df = pd.read_csv(\"C:\\\\Users\\\\asus\\\\BigContest\\\\code\\\\unknown_monthly.csv\", encoding='cp949')\n",
    "df = df.drop(['em_cnt'], 1)\n",
    "df"
   ]
  },
  {
   "cell_type": "code",
   "execution_count": 5,
   "metadata": {},
   "outputs": [],
   "source": [
    "sub_df = df.copy()"
   ]
  },
  {
   "cell_type": "code",
   "execution_count": 6,
   "metadata": {},
   "outputs": [
    {
     "data": {
      "text/plain": [
       "{'em_g': 2018-01-31     8880900\n",
       " 2018-02-28     7543950\n",
       " 2018-03-31     9287150\n",
       " 2018-04-30     9853350\n",
       " 2018-05-31    10290950\n",
       " 2018-06-30    10533050\n",
       " 2018-07-31    11860200\n",
       " 2018-08-31    12184350\n",
       " 2018-09-30     9085850\n",
       " 2018-10-31     9371850\n",
       " 2018-11-30     9997100\n",
       " 2018-12-31     8593600\n",
       " 2019-01-31     5044050\n",
       " 2019-02-28           0\n",
       " 2019-03-31           0\n",
       " 2019-04-30           0\n",
       " 2019-05-31           0\n",
       " 2019-06-30           0\n",
       " 2019-07-31           0\n",
       " 2019-08-31           0\n",
       " 2019-09-30      482950\n",
       " 2019-10-31      550350\n",
       " 2019-11-30      621300\n",
       " 2019-12-31      828350\n",
       " 2020-01-31      645900\n",
       " 2020-02-29      337600\n",
       " 2020-03-31           0\n",
       " 2020-04-30           0\n",
       " 2020-05-31           0\n",
       " 2020-06-30      836200\n",
       " 2020-07-31     1372799\n",
       " 2020-08-31     2387650\n",
       " 2020-09-30     2010300\n",
       " 2020-10-31     2226900\n",
       " 2020-11-30     2088750\n",
       " 2020-12-31     2147470\n",
       " 2021-01-31     2057700\n",
       " 2021-02-28     1985100\n",
       " 2021-03-31     2153800\n",
       " 2021-04-30     1936900\n",
       " 2021-05-31     1910750\n",
       " 2021-06-30     2157850\n",
       " Name: em_g, dtype: int64}"
      ]
     },
     "execution_count": 6,
     "metadata": {},
     "output_type": "execute_result"
    }
   ],
   "source": [
    "# series 형으로 변환\n",
    "sub_df.to_dict('series')"
   ]
  },
  {
   "cell_type": "markdown",
   "metadata": {},
   "source": [
    "# ARIMA"
   ]
  },
  {
   "cell_type": "code",
   "execution_count": 7,
   "metadata": {},
   "outputs": [],
   "source": [
    "# ARIMA에 적합한 log로 바꾸는 과정\n",
    "sub_df_log = np.log1p(sub_df[:])\n",
    "#sub_df_float.tail()"
   ]
  },
  {
   "cell_type": "code",
   "execution_count": 8,
   "metadata": {},
   "outputs": [
    {
     "name": "stdout",
     "output_type": "stream",
     "text": [
      "ADF Statistic : -2.243308\n",
      "p-value : 0.190904\n",
      "Critical Values :\n",
      "\t1%: -3.600983\n",
      "\t5%: -2.935135\n",
      "\t10%: -2.605963\n"
     ]
    }
   ],
   "source": [
    "# ADF 검정 - 정상성 확인하는 검정 (귀무 : 정상성 만족 x, 대립 : 정상성 만족)\n",
    "from statsmodels.tsa.stattools import adfuller\n",
    "\n",
    "result = adfuller(sub_df_log)\n",
    "print('ADF Statistic : %f' % result[0])\n",
    "print('p-value : %f' % result[1])\n",
    "print('Critical Values :')\n",
    "for key, value in result[4].items():\n",
    "    print('\\t%s: %3f' % (key, value))\n",
    "    \n",
    "##### 여기서 p-value 확인 -> 0.05보다 크면 아래로 내려가서 차분하기 / 작으면 차분 생략(아래 셀 생략) #####"
   ]
  },
  {
   "cell_type": "code",
   "execution_count": 9,
   "metadata": {},
   "outputs": [
    {
     "name": "stdout",
     "output_type": "stream",
     "text": [
      "ADF Statistic : -5.962801\n",
      "p-value : 0.000000\n",
      "Critical Values :\n",
      "\t1%: -3.605565\n",
      "\t5%: -2.937069\n",
      "\t10%: -2.606986\n"
     ]
    }
   ],
   "source": [
    "# 차분\n",
    "diff_1 = sub_df_log.diff(periods=1).iloc[1:]\n",
    "\n",
    "# ADF 검정 - 정상성 확인하는 검정 (귀무 : 정상성 만족 x, 대립 : 정상성 만족)\n",
    "result = adfuller(diff_1)\n",
    "print('ADF Statistic : %f' % result[0])\n",
    "print('p-value : %f' % result[1])\n",
    "print('Critical Values :')\n",
    "for key, value in result[4].items():\n",
    "    print('\\t%s: %3f' % (key, value))\n",
    "    \n",
    "##### 여기서 또 p-value 확인 -> 0.05보다 크면 얼른 단톡에 보고하기 / 작으면 아래로 쭉 진행 #####"
   ]
  },
  {
   "cell_type": "code",
   "execution_count": 10,
   "metadata": {},
   "outputs": [],
   "source": [
    "##### 이건 설치하는 거라 처음 돌릴 때 한 번만 주석 풀어서 설치하고 그 이후로는 필요없음! #####\n",
    "\n",
    "#!pip install pmdarima"
   ]
  },
  {
   "cell_type": "code",
   "execution_count": 11,
   "metadata": {},
   "outputs": [
    {
     "name": "stdout",
     "output_type": "stream",
     "text": [
      " ARIMA(0,0,0)(0,0,0)[1] intercept   : AIC=279.164, Time=0.16 sec\n",
      " ARIMA(0,0,1)(0,0,0)[1] intercept   : AIC=257.612, Time=0.11 sec\n",
      " ARIMA(0,0,2)(0,0,0)[1] intercept   : AIC=245.973, Time=0.11 sec\n",
      " ARIMA(0,0,3)(0,0,0)[1] intercept   : AIC=243.202, Time=0.13 sec\n",
      " ARIMA(0,0,4)(0,0,0)[1] intercept   : AIC=245.109, Time=0.30 sec\n",
      " ARIMA(0,0,5)(0,0,0)[1] intercept   : AIC=247.060, Time=0.25 sec\n",
      " ARIMA(1,0,0)(0,0,0)[1] intercept   : AIC=243.076, Time=0.05 sec\n",
      " ARIMA(1,0,1)(0,0,0)[1] intercept   : AIC=244.364, Time=0.08 sec\n",
      " ARIMA(1,0,2)(0,0,0)[1] intercept   : AIC=243.741, Time=0.16 sec\n",
      " ARIMA(1,0,3)(0,0,0)[1] intercept   : AIC=245.725, Time=0.18 sec\n",
      " ARIMA(1,0,4)(0,0,0)[1] intercept   : AIC=247.171, Time=0.36 sec\n",
      " ARIMA(2,0,0)(0,0,0)[1] intercept   : AIC=244.009, Time=0.10 sec\n",
      " ARIMA(2,0,1)(0,0,0)[1] intercept   : AIC=245.171, Time=0.22 sec\n",
      " ARIMA(2,0,2)(0,0,0)[1] intercept   : AIC=245.739, Time=0.23 sec\n",
      " ARIMA(2,0,3)(0,0,0)[1] intercept   : AIC=247.690, Time=0.38 sec\n",
      " ARIMA(3,0,0)(0,0,0)[1] intercept   : AIC=244.753, Time=0.12 sec\n",
      " ARIMA(3,0,1)(0,0,0)[1] intercept   : AIC=246.395, Time=0.21 sec\n",
      " ARIMA(3,0,2)(0,0,0)[1] intercept   : AIC=inf, Time=0.47 sec\n",
      " ARIMA(4,0,0)(0,0,0)[1] intercept   : AIC=246.488, Time=0.14 sec\n",
      " ARIMA(4,0,1)(0,0,0)[1] intercept   : AIC=248.355, Time=0.33 sec\n",
      " ARIMA(5,0,0)(0,0,0)[1] intercept   : AIC=247.842, Time=0.17 sec\n",
      "\n",
      "Best model:  ARIMA(1,0,0)(0,0,0)[1] intercept\n",
      "Total fit time: 4.308 seconds\n"
     ]
    },
    {
     "data": {
      "text/plain": [
       "ARIMA(order=(1, 0, 0), scoring_args={}, seasonal_order=(0, 0, 0, 1),\n",
       "      suppress_warnings=True)"
      ]
     },
     "execution_count": 11,
     "metadata": {},
     "output_type": "execute_result"
    }
   ],
   "source": [
    "from pmdarima.arima import auto_arima\n",
    "\n",
    "model_arima= auto_arima(sub_df_log,trace=True, error_action='ignore',suppress_warnings=True,stepwise=False,seasonal=True)\n",
    "\n",
    "model_arima.fit(sub_df_log)\n",
    "\n",
    "##### 여기서 아래쪽에 'Best model:  ARIMA(1,1,1)(0,0,0)[1] intercept' 이렇게 나오면 (1,1,1) 가져다 쓸거임 #####\n",
    "##### ARIMA(1,1,1) 여기 숫자 세 개만 잘 보면 됨 !!!! #####"
   ]
  },
  {
   "cell_type": "code",
   "execution_count": 13,
   "metadata": {},
   "outputs": [
    {
     "name": "stdout",
     "output_type": "stream",
     "text": [
      "                              ARMA Model Results                              \n",
      "==============================================================================\n",
      "Dep. Variable:                      y   No. Observations:                   42\n",
      "Model:                     ARMA(1, 0)   Log Likelihood                -118.538\n",
      "Method:                       css-mle   S.D. of innovations              4.026\n",
      "Date:                Sat, 11 Sep 2021   AIC                            243.076\n",
      "Time:                        19:22:32   BIC                            248.289\n",
      "Sample:                             0   HQIC                           244.987\n",
      "                                                                              \n",
      "==============================================================================\n",
      "                 coef    std err          z      P>|z|      [0.025      0.975]\n",
      "------------------------------------------------------------------------------\n",
      "const         11.8656      2.495      4.755      0.000       6.975      16.757\n",
      "ar.L1.y        0.7674      0.094      8.180      0.000       0.584       0.951\n",
      "                                    Roots                                    \n",
      "=============================================================================\n",
      "                  Real          Imaginary           Modulus         Frequency\n",
      "-----------------------------------------------------------------------------\n",
      "AR.1            1.3030           +0.0000j            1.3030            0.0000\n",
      "-----------------------------------------------------------------------------\n"
     ]
    },
    {
     "name": "stderr",
     "output_type": "stream",
     "text": [
      "C:\\Users\\asus\\anaconda3\\lib\\site-packages\\statsmodels\\tsa\\arima_model.py:472: FutureWarning: \n",
      "statsmodels.tsa.arima_model.ARMA and statsmodels.tsa.arima_model.ARIMA have\n",
      "been deprecated in favor of statsmodels.tsa.arima.model.ARIMA (note the .\n",
      "between arima and model) and\n",
      "statsmodels.tsa.SARIMAX. These will be removed after the 0.12 release.\n",
      "\n",
      "statsmodels.tsa.arima.model.ARIMA makes use of the statespace framework and\n",
      "is both well tested and maintained.\n",
      "\n",
      "To silence this warning and continue using ARMA and ARIMA until they are\n",
      "removed, use:\n",
      "\n",
      "import warnings\n",
      "warnings.filterwarnings('ignore', 'statsmodels.tsa.arima_model.ARMA',\n",
      "                        FutureWarning)\n",
      "warnings.filterwarnings('ignore', 'statsmodels.tsa.arima_model.ARIMA',\n",
      "                        FutureWarning)\n",
      "\n",
      "  warnings.warn(ARIMA_DEPRECATION_WARN, FutureWarning)\n"
     ]
    }
   ],
   "source": [
    "# ARIMA 모델 \n",
    "from statsmodels.tsa.arima_model import ARIMA\n",
    "import statsmodels.api as sm\n",
    "\n",
    "# (AR=2, 차분=1, MA=2) 파라미터로 ARIMA 모델을 학습합니다.\n",
    "model = ARIMA(sub_df_log.em_g.values, order=(1,0,0))     ##### 여기 order=(1,1,1)에 위에서 나온 숫자 넣는거 #####\n",
    "                                   ##### 그리고 sub_df_log.waste_cnt.values에서 가운데 waste_cnt 각자걸로 바꾸기 #####\n",
    "\n",
    "#trend : constant를 가지고 있는지, c - constant / nc - no constant\n",
    "#disp : 수렴 정보를 나타냄\n",
    "model_fit = model.fit(trend='c', full_output=True, disp=True)\n",
    "print(model_fit.summary())"
   ]
  },
  {
   "cell_type": "markdown",
   "metadata": {},
   "source": [
    "# 예측하기"
   ]
  },
  {
   "cell_type": "code",
   "execution_count": 14,
   "metadata": {},
   "outputs": [
    {
     "name": "stdout",
     "output_type": "stream",
     "text": [
      "(array([13.95230321, 13.46703176]), array([4.02614459, 5.07513538]), array([[ 6.06120482, 21.84340161],\n",
      "       [ 3.51994919, 23.41411433]]))\n"
     ]
    }
   ],
   "source": [
    "# 2단위 이후의 예측결과\n",
    "fore = model_fit.forecast(steps=2)\n",
    "print(fore)\n",
    "\n",
    "##### 맨 앞에 나온 'array([10681271.81014634, 10741037.02029268])' 이게 차례대로 7, 8월 예측값에 로그씌운거임 #####\n",
    "##### 7월 : 10.05681231, 8월 : 10.28080669 #####\n",
    "##### 이거 지수함수에 넣어서 원래값으로 돌려야 함 -> 각각 가져다 밑에 넣기 #####"
   ]
  },
  {
   "cell_type": "code",
   "execution_count": 16,
   "metadata": {},
   "outputs": [
    {
     "name": "stdout",
     "output_type": "stream",
     "text": [
      "1146589.3806896203\n",
      "705759.8784326583\n"
     ]
    }
   ],
   "source": [
    "# 이거 위에서 로그씌울 때 np.log1p 이거 써서 지수함수에 넣은 다음에 1 뺀거임\n",
    "# https://rfriend.tistory.com/295\n",
    "# 궁금하면 이 링크 들어가서 읽어보세요 질문받기 싫어서 미리 써놓음\n",
    "# 밑에 어떻게 되는지 예제코드도 넣었으니까 제발 질문 안해주길 ㅎ\n",
    "\n",
    "print( np.exp(13.95230321) - 1 )   ##### 괄호 안에 7월 숫자 넣기 #####\n",
    "print( np.exp(13.46703176) - 1 )   ##### 괄호 안에 8월 숫자 넣기 #####\n",
    "\n",
    "##### 이 값 가져다 엑셀파일에 입력하기 #####"
   ]
  },
  {
   "cell_type": "code",
   "execution_count": null,
   "metadata": {},
   "outputs": [],
   "source": []
  },
  {
   "cell_type": "code",
   "execution_count": 138,
   "metadata": {},
   "outputs": [
    {
     "name": "stdout",
     "output_type": "stream",
     "text": [
      "134 4.90527477843843 135.00000000000003\n"
     ]
    }
   ],
   "source": [
    "a = 134\n",
    "lna = np.log1p(a)  # a에 자연로그씌운거\n",
    "ea = np.exp(lna)  # 다시 지수함수에 넣은거\n",
    "print(a, lna, ea)  # 결과가 1 크게 나옴"
   ]
  },
  {
   "cell_type": "code",
   "execution_count": null,
   "metadata": {},
   "outputs": [],
   "source": []
  }
 ],
 "metadata": {
  "kernelspec": {
   "display_name": "Python 3",
   "language": "python",
   "name": "python3"
  },
  "language_info": {
   "codemirror_mode": {
    "name": "ipython",
    "version": 3
   },
   "file_extension": ".py",
   "mimetype": "text/x-python",
   "name": "python",
   "nbconvert_exporter": "python",
   "pygments_lexer": "ipython3",
   "version": "3.8.5"
  },
  "toc": {
   "base_numbering": 1,
   "nav_menu": {},
   "number_sections": true,
   "sideBar": true,
   "skip_h1_title": false,
   "title_cell": "Table of Contents",
   "title_sidebar": "Contents",
   "toc_cell": false,
   "toc_position": {},
   "toc_section_display": true,
   "toc_window_display": false
  }
 },
 "nbformat": 4,
 "nbformat_minor": 4
}
